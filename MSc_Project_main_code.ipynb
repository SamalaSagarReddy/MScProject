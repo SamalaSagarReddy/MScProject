{
  "nbformat": 4,
  "nbformat_minor": 0,
  "metadata": {
    "colab": {
      "name": "MSc Project_main_code.ipynb",
      "provenance": [],
      "collapsed_sections": [
        "j2IdXrpwCoxS",
        "M9XRTG9el7oQ",
        "rN2KbwLkacFm",
        "5-Cg0jVeaipV",
        "Hlgr7Pa9aoV-",
        "R8g6_urIa2If",
        "aDfwCv5Aa5QO",
        "pnSiHIZG8BHI",
        "iLGRVhvtXZil",
        "1dK4-m85YZ0j",
        "eplYB1tjLwjA",
        "muuzNQLS4U6-",
        "MA8JP7Ub4qSV"
      ],
      "mount_file_id": "1BrQVIxaG6Uht319siFRR9hiNTnVvLNFi",
      "authorship_tag": "ABX9TyNx0UG6HeqJM51q9i5NXyUc",
      "include_colab_link": true
    },
    "kernelspec": {
      "name": "python3",
      "display_name": "Python 3"
    },
    "language_info": {
      "name": "python"
    },
    "accelerator": "GPU"
  },
  "cells": [
    {
      "cell_type": "markdown",
      "metadata": {
        "id": "view-in-github",
        "colab_type": "text"
      },
      "source": [
        "<a href=\"https://colab.research.google.com/github/SamalaSagarReddy/MScProject/blob/main/MSc_Project_main_code.ipynb\" target=\"_parent\"><img src=\"https://colab.research.google.com/assets/colab-badge.svg\" alt=\"Open In Colab\"/></a>"
      ]
    },
    {
      "cell_type": "markdown",
      "source": [
        "## Data Preprocessing"
      ],
      "metadata": {
        "id": "j2IdXrpwCoxS"
      }
    },
    {
      "cell_type": "code",
      "metadata": {
        "id": "SzOlOEaB3SF_"
      },
      "source": [
        "import pandas as pd"
      ],
      "execution_count": 2,
      "outputs": []
    },
    {
      "cell_type": "markdown",
      "source": [
        "### Amazon Sentiment analysis"
      ],
      "metadata": {
        "id": "-Oi6EEW3bXkb"
      }
    },
    {
      "cell_type": "code",
      "metadata": {
        "id": "kdZkMjWKymbl",
        "colab": {
          "base_uri": "https://localhost:8080/",
          "height": 223
        },
        "outputId": "ed4c10b8-1d0a-4576-cc35-c9c246212ef9"
      },
      "source": [
        "# Turn .csv files into pandas DataFrame's\n",
        "train_df = pd.read_csv('/content/drive/MyDrive/MSc Project/train_large_dataset.csv')\n",
        "# if you want to load the dataset from local storage then use the below code, the above code is to load the dataset from the Google Drive location.\n",
        "#train_df = pd.read_csv('train_large_dataset.csv')\n",
        "train_df = train_df[train_df['text'].notnull()]\n",
        "train_df = train_df.sample(frac=0.2)\n",
        "print(train_df.shape)\n",
        "train_df.head()"
      ],
      "execution_count": 3,
      "outputs": [
        {
          "output_type": "stream",
          "name": "stdout",
          "text": [
            "(80000, 2)\n"
          ]
        },
        {
          "output_type": "execute_result",
          "data": {
            "text/html": [
              "\n",
              "  <div id=\"df-624d58d4-c5e4-42b7-a7bf-39585d282d8b\">\n",
              "    <div class=\"colab-df-container\">\n",
              "      <div>\n",
              "<style scoped>\n",
              "    .dataframe tbody tr th:only-of-type {\n",
              "        vertical-align: middle;\n",
              "    }\n",
              "\n",
              "    .dataframe tbody tr th {\n",
              "        vertical-align: top;\n",
              "    }\n",
              "\n",
              "    .dataframe thead th {\n",
              "        text-align: right;\n",
              "    }\n",
              "</style>\n",
              "<table border=\"1\" class=\"dataframe\">\n",
              "  <thead>\n",
              "    <tr style=\"text-align: right;\">\n",
              "      <th></th>\n",
              "      <th>target</th>\n",
              "      <th>text</th>\n",
              "    </tr>\n",
              "  </thead>\n",
              "  <tbody>\n",
              "    <tr>\n",
              "      <th>136111</th>\n",
              "      <td>1</td>\n",
              "      <td>I've been a professional highend custom builde...</td>\n",
              "    </tr>\n",
              "    <tr>\n",
              "      <th>336170</th>\n",
              "      <td>0</td>\n",
              "      <td>I bought this camera about 3 weeks ago, and ha...</td>\n",
              "    </tr>\n",
              "    <tr>\n",
              "      <th>211416</th>\n",
              "      <td>1</td>\n",
              "      <td>This is the second pair of Feiyue shoes I've o...</td>\n",
              "    </tr>\n",
              "    <tr>\n",
              "      <th>100016</th>\n",
              "      <td>1</td>\n",
              "      <td>I can honestly say that I couldn't put this bo...</td>\n",
              "    </tr>\n",
              "    <tr>\n",
              "      <th>371501</th>\n",
              "      <td>1</td>\n",
              "      <td>These are probably the best trays you can get....</td>\n",
              "    </tr>\n",
              "  </tbody>\n",
              "</table>\n",
              "</div>\n",
              "      <button class=\"colab-df-convert\" onclick=\"convertToInteractive('df-624d58d4-c5e4-42b7-a7bf-39585d282d8b')\"\n",
              "              title=\"Convert this dataframe to an interactive table.\"\n",
              "              style=\"display:none;\">\n",
              "        \n",
              "  <svg xmlns=\"http://www.w3.org/2000/svg\" height=\"24px\"viewBox=\"0 0 24 24\"\n",
              "       width=\"24px\">\n",
              "    <path d=\"M0 0h24v24H0V0z\" fill=\"none\"/>\n",
              "    <path d=\"M18.56 5.44l.94 2.06.94-2.06 2.06-.94-2.06-.94-.94-2.06-.94 2.06-2.06.94zm-11 1L8.5 8.5l.94-2.06 2.06-.94-2.06-.94L8.5 2.5l-.94 2.06-2.06.94zm10 10l.94 2.06.94-2.06 2.06-.94-2.06-.94-.94-2.06-.94 2.06-2.06.94z\"/><path d=\"M17.41 7.96l-1.37-1.37c-.4-.4-.92-.59-1.43-.59-.52 0-1.04.2-1.43.59L10.3 9.45l-7.72 7.72c-.78.78-.78 2.05 0 2.83L4 21.41c.39.39.9.59 1.41.59.51 0 1.02-.2 1.41-.59l7.78-7.78 2.81-2.81c.8-.78.8-2.07 0-2.86zM5.41 20L4 18.59l7.72-7.72 1.47 1.35L5.41 20z\"/>\n",
              "  </svg>\n",
              "      </button>\n",
              "      \n",
              "  <style>\n",
              "    .colab-df-container {\n",
              "      display:flex;\n",
              "      flex-wrap:wrap;\n",
              "      gap: 12px;\n",
              "    }\n",
              "\n",
              "    .colab-df-convert {\n",
              "      background-color: #E8F0FE;\n",
              "      border: none;\n",
              "      border-radius: 50%;\n",
              "      cursor: pointer;\n",
              "      display: none;\n",
              "      fill: #1967D2;\n",
              "      height: 32px;\n",
              "      padding: 0 0 0 0;\n",
              "      width: 32px;\n",
              "    }\n",
              "\n",
              "    .colab-df-convert:hover {\n",
              "      background-color: #E2EBFA;\n",
              "      box-shadow: 0px 1px 2px rgba(60, 64, 67, 0.3), 0px 1px 3px 1px rgba(60, 64, 67, 0.15);\n",
              "      fill: #174EA6;\n",
              "    }\n",
              "\n",
              "    [theme=dark] .colab-df-convert {\n",
              "      background-color: #3B4455;\n",
              "      fill: #D2E3FC;\n",
              "    }\n",
              "\n",
              "    [theme=dark] .colab-df-convert:hover {\n",
              "      background-color: #434B5C;\n",
              "      box-shadow: 0px 1px 3px 1px rgba(0, 0, 0, 0.15);\n",
              "      filter: drop-shadow(0px 1px 2px rgba(0, 0, 0, 0.3));\n",
              "      fill: #FFFFFF;\n",
              "    }\n",
              "  </style>\n",
              "\n",
              "      <script>\n",
              "        const buttonEl =\n",
              "          document.querySelector('#df-624d58d4-c5e4-42b7-a7bf-39585d282d8b button.colab-df-convert');\n",
              "        buttonEl.style.display =\n",
              "          google.colab.kernel.accessAllowed ? 'block' : 'none';\n",
              "\n",
              "        async function convertToInteractive(key) {\n",
              "          const element = document.querySelector('#df-624d58d4-c5e4-42b7-a7bf-39585d282d8b');\n",
              "          const dataTable =\n",
              "            await google.colab.kernel.invokeFunction('convertToInteractive',\n",
              "                                                     [key], {});\n",
              "          if (!dataTable) return;\n",
              "\n",
              "          const docLinkHtml = 'Like what you see? Visit the ' +\n",
              "            '<a target=\"_blank\" href=https://colab.research.google.com/notebooks/data_table.ipynb>data table notebook</a>'\n",
              "            + ' to learn more about interactive tables.';\n",
              "          element.innerHTML = '';\n",
              "          dataTable['output_type'] = 'display_data';\n",
              "          await google.colab.output.renderOutput(dataTable, element);\n",
              "          const docLink = document.createElement('div');\n",
              "          docLink.innerHTML = docLinkHtml;\n",
              "          element.appendChild(docLink);\n",
              "        }\n",
              "      </script>\n",
              "    </div>\n",
              "  </div>\n",
              "  "
            ],
            "text/plain": [
              "        target                                               text\n",
              "136111       1  I've been a professional highend custom builde...\n",
              "336170       0  I bought this camera about 3 weeks ago, and ha...\n",
              "211416       1  This is the second pair of Feiyue shoes I've o...\n",
              "100016       1  I can honestly say that I couldn't put this bo...\n",
              "371501       1  These are probably the best trays you can get...."
            ]
          },
          "metadata": {},
          "execution_count": 3
        }
      ]
    },
    {
      "cell_type": "code",
      "metadata": {
        "colab": {
          "base_uri": "https://localhost:8080/",
          "height": 223
        },
        "id": "weUGMJ90W1C1",
        "outputId": "158a4875-345b-4c34-ca3a-3e7b36a0d870"
      },
      "source": [
        "test_df = pd.read_csv('/content/drive/MyDrive/MSc Project/test_large_dataset.csv')\n",
        "# if you want to load the dataset from local storage then use the below code, the above code is to load the dataset from the Google Drive location.\n",
        "#train_df = pd.read_csv('test_large_dataset.csv')\n",
        "test_df = test_df[test_df['text'].notnull()]\n",
        "test_df = test_df.sample(frac=0.2)\n",
        "print(test_df.shape)\n",
        "test_df.head()"
      ],
      "execution_count": 4,
      "outputs": [
        {
          "output_type": "stream",
          "name": "stdout",
          "text": [
            "(79998, 1)\n"
          ]
        },
        {
          "output_type": "execute_result",
          "data": {
            "text/html": [
              "\n",
              "  <div id=\"df-700499c7-08be-4324-8363-28a3322c42c2\">\n",
              "    <div class=\"colab-df-container\">\n",
              "      <div>\n",
              "<style scoped>\n",
              "    .dataframe tbody tr th:only-of-type {\n",
              "        vertical-align: middle;\n",
              "    }\n",
              "\n",
              "    .dataframe tbody tr th {\n",
              "        vertical-align: top;\n",
              "    }\n",
              "\n",
              "    .dataframe thead th {\n",
              "        text-align: right;\n",
              "    }\n",
              "</style>\n",
              "<table border=\"1\" class=\"dataframe\">\n",
              "  <thead>\n",
              "    <tr style=\"text-align: right;\">\n",
              "      <th></th>\n",
              "      <th>text</th>\n",
              "    </tr>\n",
              "  </thead>\n",
              "  <tbody>\n",
              "    <tr>\n",
              "      <th>126201</th>\n",
              "      <td>Deluxe size, high quality beautiful stainless ...</td>\n",
              "    </tr>\n",
              "    <tr>\n",
              "      <th>337277</th>\n",
              "      <td>Jaccard Simply Better 45 Knife Meat Tenderizer</td>\n",
              "    </tr>\n",
              "    <tr>\n",
              "      <th>203661</th>\n",
              "      <td>Buyer Beware - Not New As Advertised!!</td>\n",
              "    </tr>\n",
              "    <tr>\n",
              "      <th>350878</th>\n",
              "      <td>Overpriced and too Basic.</td>\n",
              "    </tr>\n",
              "    <tr>\n",
              "      <th>343487</th>\n",
              "      <td>Problem with Map of Florence, Italy</td>\n",
              "    </tr>\n",
              "  </tbody>\n",
              "</table>\n",
              "</div>\n",
              "      <button class=\"colab-df-convert\" onclick=\"convertToInteractive('df-700499c7-08be-4324-8363-28a3322c42c2')\"\n",
              "              title=\"Convert this dataframe to an interactive table.\"\n",
              "              style=\"display:none;\">\n",
              "        \n",
              "  <svg xmlns=\"http://www.w3.org/2000/svg\" height=\"24px\"viewBox=\"0 0 24 24\"\n",
              "       width=\"24px\">\n",
              "    <path d=\"M0 0h24v24H0V0z\" fill=\"none\"/>\n",
              "    <path d=\"M18.56 5.44l.94 2.06.94-2.06 2.06-.94-2.06-.94-.94-2.06-.94 2.06-2.06.94zm-11 1L8.5 8.5l.94-2.06 2.06-.94-2.06-.94L8.5 2.5l-.94 2.06-2.06.94zm10 10l.94 2.06.94-2.06 2.06-.94-2.06-.94-.94-2.06-.94 2.06-2.06.94z\"/><path d=\"M17.41 7.96l-1.37-1.37c-.4-.4-.92-.59-1.43-.59-.52 0-1.04.2-1.43.59L10.3 9.45l-7.72 7.72c-.78.78-.78 2.05 0 2.83L4 21.41c.39.39.9.59 1.41.59.51 0 1.02-.2 1.41-.59l7.78-7.78 2.81-2.81c.8-.78.8-2.07 0-2.86zM5.41 20L4 18.59l7.72-7.72 1.47 1.35L5.41 20z\"/>\n",
              "  </svg>\n",
              "      </button>\n",
              "      \n",
              "  <style>\n",
              "    .colab-df-container {\n",
              "      display:flex;\n",
              "      flex-wrap:wrap;\n",
              "      gap: 12px;\n",
              "    }\n",
              "\n",
              "    .colab-df-convert {\n",
              "      background-color: #E8F0FE;\n",
              "      border: none;\n",
              "      border-radius: 50%;\n",
              "      cursor: pointer;\n",
              "      display: none;\n",
              "      fill: #1967D2;\n",
              "      height: 32px;\n",
              "      padding: 0 0 0 0;\n",
              "      width: 32px;\n",
              "    }\n",
              "\n",
              "    .colab-df-convert:hover {\n",
              "      background-color: #E2EBFA;\n",
              "      box-shadow: 0px 1px 2px rgba(60, 64, 67, 0.3), 0px 1px 3px 1px rgba(60, 64, 67, 0.15);\n",
              "      fill: #174EA6;\n",
              "    }\n",
              "\n",
              "    [theme=dark] .colab-df-convert {\n",
              "      background-color: #3B4455;\n",
              "      fill: #D2E3FC;\n",
              "    }\n",
              "\n",
              "    [theme=dark] .colab-df-convert:hover {\n",
              "      background-color: #434B5C;\n",
              "      box-shadow: 0px 1px 3px 1px rgba(0, 0, 0, 0.15);\n",
              "      filter: drop-shadow(0px 1px 2px rgba(0, 0, 0, 0.3));\n",
              "      fill: #FFFFFF;\n",
              "    }\n",
              "  </style>\n",
              "\n",
              "      <script>\n",
              "        const buttonEl =\n",
              "          document.querySelector('#df-700499c7-08be-4324-8363-28a3322c42c2 button.colab-df-convert');\n",
              "        buttonEl.style.display =\n",
              "          google.colab.kernel.accessAllowed ? 'block' : 'none';\n",
              "\n",
              "        async function convertToInteractive(key) {\n",
              "          const element = document.querySelector('#df-700499c7-08be-4324-8363-28a3322c42c2');\n",
              "          const dataTable =\n",
              "            await google.colab.kernel.invokeFunction('convertToInteractive',\n",
              "                                                     [key], {});\n",
              "          if (!dataTable) return;\n",
              "\n",
              "          const docLinkHtml = 'Like what you see? Visit the ' +\n",
              "            '<a target=\"_blank\" href=https://colab.research.google.com/notebooks/data_table.ipynb>data table notebook</a>'\n",
              "            + ' to learn more about interactive tables.';\n",
              "          element.innerHTML = '';\n",
              "          dataTable['output_type'] = 'display_data';\n",
              "          await google.colab.output.renderOutput(dataTable, element);\n",
              "          const docLink = document.createElement('div');\n",
              "          docLink.innerHTML = docLinkHtml;\n",
              "          element.appendChild(docLink);\n",
              "        }\n",
              "      </script>\n",
              "    </div>\n",
              "  </div>\n",
              "  "
            ],
            "text/plain": [
              "                                                     text\n",
              "126201  Deluxe size, high quality beautiful stainless ...\n",
              "337277     Jaccard Simply Better 45 Knife Meat Tenderizer\n",
              "203661             Buyer Beware - Not New As Advertised!!\n",
              "350878                          Overpriced and too Basic.\n",
              "343487                Problem with Map of Florence, Italy"
            ]
          },
          "metadata": {},
          "execution_count": 4
        }
      ]
    },
    {
      "cell_type": "code",
      "metadata": {
        "colab": {
          "base_uri": "https://localhost:8080/",
          "height": 206
        },
        "id": "8SAWC3IX0upd",
        "outputId": "95e21d37-8dae-495f-b4b9-5f91272d3267"
      },
      "source": [
        "# Shuffle training dataframe\n",
        "train_df_shuffled = train_df.sample(frac=1, random_state=42) # shuffle with random_state=42 for reproducibility\n",
        "train_df_shuffled.head()"
      ],
      "execution_count": 5,
      "outputs": [
        {
          "output_type": "execute_result",
          "data": {
            "text/html": [
              "\n",
              "  <div id=\"df-718c41be-6c55-4413-a1fc-6499ed8a5403\">\n",
              "    <div class=\"colab-df-container\">\n",
              "      <div>\n",
              "<style scoped>\n",
              "    .dataframe tbody tr th:only-of-type {\n",
              "        vertical-align: middle;\n",
              "    }\n",
              "\n",
              "    .dataframe tbody tr th {\n",
              "        vertical-align: top;\n",
              "    }\n",
              "\n",
              "    .dataframe thead th {\n",
              "        text-align: right;\n",
              "    }\n",
              "</style>\n",
              "<table border=\"1\" class=\"dataframe\">\n",
              "  <thead>\n",
              "    <tr style=\"text-align: right;\">\n",
              "      <th></th>\n",
              "      <th>target</th>\n",
              "      <th>text</th>\n",
              "    </tr>\n",
              "  </thead>\n",
              "  <tbody>\n",
              "    <tr>\n",
              "      <th>164349</th>\n",
              "      <td>0</td>\n",
              "      <td>I read this book in order to review my mathema...</td>\n",
              "    </tr>\n",
              "    <tr>\n",
              "      <th>111296</th>\n",
              "      <td>0</td>\n",
              "      <td>-in the first place, it is not \"in depth\" what...</td>\n",
              "    </tr>\n",
              "    <tr>\n",
              "      <th>166115</th>\n",
              "      <td>1</td>\n",
              "      <td>SCOTS is a great band; sort of the red-headed ...</td>\n",
              "    </tr>\n",
              "    <tr>\n",
              "      <th>271371</th>\n",
              "      <td>1</td>\n",
              "      <td>This is a wonderful compilation of songs to ac...</td>\n",
              "    </tr>\n",
              "    <tr>\n",
              "      <th>244819</th>\n",
              "      <td>1</td>\n",
              "      <td>This is one of a dozen things I have bought at...</td>\n",
              "    </tr>\n",
              "  </tbody>\n",
              "</table>\n",
              "</div>\n",
              "      <button class=\"colab-df-convert\" onclick=\"convertToInteractive('df-718c41be-6c55-4413-a1fc-6499ed8a5403')\"\n",
              "              title=\"Convert this dataframe to an interactive table.\"\n",
              "              style=\"display:none;\">\n",
              "        \n",
              "  <svg xmlns=\"http://www.w3.org/2000/svg\" height=\"24px\"viewBox=\"0 0 24 24\"\n",
              "       width=\"24px\">\n",
              "    <path d=\"M0 0h24v24H0V0z\" fill=\"none\"/>\n",
              "    <path d=\"M18.56 5.44l.94 2.06.94-2.06 2.06-.94-2.06-.94-.94-2.06-.94 2.06-2.06.94zm-11 1L8.5 8.5l.94-2.06 2.06-.94-2.06-.94L8.5 2.5l-.94 2.06-2.06.94zm10 10l.94 2.06.94-2.06 2.06-.94-2.06-.94-.94-2.06-.94 2.06-2.06.94z\"/><path d=\"M17.41 7.96l-1.37-1.37c-.4-.4-.92-.59-1.43-.59-.52 0-1.04.2-1.43.59L10.3 9.45l-7.72 7.72c-.78.78-.78 2.05 0 2.83L4 21.41c.39.39.9.59 1.41.59.51 0 1.02-.2 1.41-.59l7.78-7.78 2.81-2.81c.8-.78.8-2.07 0-2.86zM5.41 20L4 18.59l7.72-7.72 1.47 1.35L5.41 20z\"/>\n",
              "  </svg>\n",
              "      </button>\n",
              "      \n",
              "  <style>\n",
              "    .colab-df-container {\n",
              "      display:flex;\n",
              "      flex-wrap:wrap;\n",
              "      gap: 12px;\n",
              "    }\n",
              "\n",
              "    .colab-df-convert {\n",
              "      background-color: #E8F0FE;\n",
              "      border: none;\n",
              "      border-radius: 50%;\n",
              "      cursor: pointer;\n",
              "      display: none;\n",
              "      fill: #1967D2;\n",
              "      height: 32px;\n",
              "      padding: 0 0 0 0;\n",
              "      width: 32px;\n",
              "    }\n",
              "\n",
              "    .colab-df-convert:hover {\n",
              "      background-color: #E2EBFA;\n",
              "      box-shadow: 0px 1px 2px rgba(60, 64, 67, 0.3), 0px 1px 3px 1px rgba(60, 64, 67, 0.15);\n",
              "      fill: #174EA6;\n",
              "    }\n",
              "\n",
              "    [theme=dark] .colab-df-convert {\n",
              "      background-color: #3B4455;\n",
              "      fill: #D2E3FC;\n",
              "    }\n",
              "\n",
              "    [theme=dark] .colab-df-convert:hover {\n",
              "      background-color: #434B5C;\n",
              "      box-shadow: 0px 1px 3px 1px rgba(0, 0, 0, 0.15);\n",
              "      filter: drop-shadow(0px 1px 2px rgba(0, 0, 0, 0.3));\n",
              "      fill: #FFFFFF;\n",
              "    }\n",
              "  </style>\n",
              "\n",
              "      <script>\n",
              "        const buttonEl =\n",
              "          document.querySelector('#df-718c41be-6c55-4413-a1fc-6499ed8a5403 button.colab-df-convert');\n",
              "        buttonEl.style.display =\n",
              "          google.colab.kernel.accessAllowed ? 'block' : 'none';\n",
              "\n",
              "        async function convertToInteractive(key) {\n",
              "          const element = document.querySelector('#df-718c41be-6c55-4413-a1fc-6499ed8a5403');\n",
              "          const dataTable =\n",
              "            await google.colab.kernel.invokeFunction('convertToInteractive',\n",
              "                                                     [key], {});\n",
              "          if (!dataTable) return;\n",
              "\n",
              "          const docLinkHtml = 'Like what you see? Visit the ' +\n",
              "            '<a target=\"_blank\" href=https://colab.research.google.com/notebooks/data_table.ipynb>data table notebook</a>'\n",
              "            + ' to learn more about interactive tables.';\n",
              "          element.innerHTML = '';\n",
              "          dataTable['output_type'] = 'display_data';\n",
              "          await google.colab.output.renderOutput(dataTable, element);\n",
              "          const docLink = document.createElement('div');\n",
              "          docLink.innerHTML = docLinkHtml;\n",
              "          element.appendChild(docLink);\n",
              "        }\n",
              "      </script>\n",
              "    </div>\n",
              "  </div>\n",
              "  "
            ],
            "text/plain": [
              "        target                                               text\n",
              "164349       0  I read this book in order to review my mathema...\n",
              "111296       0  -in the first place, it is not \"in depth\" what...\n",
              "166115       1  SCOTS is a great band; sort of the red-headed ...\n",
              "271371       1  This is a wonderful compilation of songs to ac...\n",
              "244819       1  This is one of a dozen things I have bought at..."
            ]
          },
          "metadata": {},
          "execution_count": 5
        }
      ]
    },
    {
      "cell_type": "markdown",
      "metadata": {
        "id": "M9XRTG9el7oQ"
      },
      "source": [
        "### Below code is used to find the count of the values."
      ]
    },
    {
      "cell_type": "code",
      "metadata": {
        "colab": {
          "base_uri": "https://localhost:8080/"
        },
        "id": "-u4jQ9t502O1",
        "outputId": "8717bff4-a38c-4335-ab13-f657e5dffedc"
      },
      "source": [
        "# How many examples of each class?\n",
        "train_df.target.value_counts()"
      ],
      "execution_count": 6,
      "outputs": [
        {
          "output_type": "execute_result",
          "data": {
            "text/plain": [
              "1    40011\n",
              "0    39989\n",
              "Name: target, dtype: int64"
            ]
          },
          "metadata": {},
          "execution_count": 6
        }
      ]
    },
    {
      "cell_type": "markdown",
      "source": [
        "Since we have two target values, we're dealing with a binary classification problem.\n",
        "\n",
        "It's fairly balanced too, about 50% negative class (target = 0) and 50% positive class (target = 1).\n",
        "\n",
        "Where,\n",
        "\n",
        "1 = Positive Review\n",
        "0 = Negative Review\n",
        "And what about the total number of samples we have?"
      ],
      "metadata": {
        "id": "tGjDCKH7aCQw"
      }
    },
    {
      "cell_type": "markdown",
      "source": [
        "### Total number of samples"
      ],
      "metadata": {
        "id": "rN2KbwLkacFm"
      }
    },
    {
      "cell_type": "code",
      "metadata": {
        "colab": {
          "base_uri": "https://localhost:8080/"
        },
        "id": "vxeXCxtCURWN",
        "outputId": "7f6c8348-f229-4937-a031-4e542e3a8eef"
      },
      "source": [
        "# How many samples total?\n",
        "print(f\"Total training samples: {len(train_df)}\")\n",
        "print(f\"Total test samples: {len(test_df)}\")\n",
        "print(f\"Total samples: {len(train_df) + len(test_df)}\")"
      ],
      "execution_count": 7,
      "outputs": [
        {
          "output_type": "stream",
          "name": "stdout",
          "text": [
            "Total training samples: 80000\n",
            "Total test samples: 79998\n",
            "Total samples: 159998\n"
          ]
        }
      ]
    },
    {
      "cell_type": "markdown",
      "source": [
        "### Visualise the 10 random training examples"
      ],
      "metadata": {
        "id": "5-Cg0jVeaipV"
      }
    },
    {
      "cell_type": "code",
      "metadata": {
        "id": "UKxKxLOJ3Xhh",
        "colab": {
          "base_uri": "https://localhost:8080/"
        },
        "outputId": "274e00a1-7f1e-4da1-9514-74cd84abe2e1"
      },
      "source": [
        "# Let's visualize some random training examples\n",
        "import random\n",
        "random_index = random.randint(0, len(train_df)-5) # create random indexes not higher than the total number of samples\n",
        "for row in train_df_shuffled[[\"text\", \"target\"]][random_index:random_index+5].itertuples():\n",
        "  _, text, target = row\n",
        "  print(f\"Target: {target}\", \"(Positive Review)\" if target > 0 else \"(Negative Review)\")\n",
        "  print(f\"Text:\\n{text}\\n\")\n",
        "  print(\"---\\n\")"
      ],
      "execution_count": 8,
      "outputs": [
        {
          "output_type": "stream",
          "name": "stdout",
          "text": [
            "Target: 0 (Negative Review)\n",
            "Text:\n",
            "Please just take the time to read this.I love crappy movies. I really do. Bad graphics don't bother me. Hell, I'll give Bruce Campbell a good rating for his bad movies. I have many movies that are absolute trash but I love this. But this movie...wow. I bought a pack of 20 horror movies and this was on it. Sometimes I don't understand why some movies have bad ratings, but this one....WOW. 100% true.The beginning is interesting, hence the 2 stars. You really are like, \"Okay, I don't see why this is going to be a bad movie. The people are believable, there's a monster, the environment is believable. What can be so wrong?\" But by the end of the movie, especially the absolutely horrible ending, Just...For goodness sakes don't buy this movie. PLEASE. I love monster movies so this was the reason I bought the 20 horror dvds because I saw a movie about Loch Ness on it...booooooy was I wrong. Just...aweful.\n",
            "\n",
            "---\n",
            "\n",
            "Target: 1 (Positive Review)\n",
            "Text:\n",
            "If you don not adjust this and fit it correctly, you dog can get the muzzle leash off, but the neck stays connected so that keeps them from escaping which is great for my little jack Russell mix! Keeps her from pulling and no training needed for her! Worked from the first time.\n",
            "\n",
            "---\n",
            "\n",
            "Target: 0 (Negative Review)\n",
            "Text:\n",
            "This was a pretty interesting book once you got to the recipes. There is a lot of information at the beginning of the book that I just looked at because I was looking for recipes I could use. If you are looking for a book that will explain what carb's are, you might like it. This is a full size paperback book.\n",
            "\n",
            "---\n",
            "\n",
            "Target: 1 (Positive Review)\n",
            "Text:\n",
            "This DVD contains the most memorable moments in Broncos History. I really enjoyed watching it. Altought I certainly would have loved to see more of other great players like Dennis Smith, Steve Atwater and Louis Wright.\n",
            "\n",
            "---\n",
            "\n",
            "Target: 1 (Positive Review)\n",
            "Text:\n",
            "I've owned this CD for years, but always thought the sound quality was rather poor (muddy). MOSE ALLISON SINGS, a 2006 RVG Remaster, is the exact same set of songs (I kid you not; go figure) with much-improved sound.\n",
            "\n",
            "---\n",
            "\n"
          ]
        }
      ]
    },
    {
      "cell_type": "markdown",
      "source": [
        "### Split data into training and validation sets"
      ],
      "metadata": {
        "id": "Hlgr7Pa9aoV-"
      }
    },
    {
      "cell_type": "code",
      "metadata": {
        "id": "maxNRGLrndJV"
      },
      "source": [
        "from sklearn.model_selection import train_test_split\n",
        "\n",
        "# Use train_test_split to split training data into training and validation sets\n",
        "train_sentences, val_sentences, train_labels, val_labels = train_test_split(train_df_shuffled[\"text\"].to_numpy(),\n",
        "                                                                            train_df_shuffled[\"target\"].to_numpy(),\n",
        "                                                                            test_size=0.1, # dedicate 10% of samples to validation set\n",
        "                                                                            random_state=42) # random state for reproducibility"
      ],
      "execution_count": 8,
      "outputs": []
    },
    {
      "cell_type": "code",
      "metadata": {
        "colab": {
          "base_uri": "https://localhost:8080/"
        },
        "id": "BrHUd4dXbUlU",
        "outputId": "714d9e99-fea0-4f70-c01c-bef6652fef57"
      },
      "source": [
        "# Check the lengths\n",
        "len(train_sentences), len(train_labels), len(val_sentences), len(val_labels)"
      ],
      "execution_count": 9,
      "outputs": [
        {
          "output_type": "execute_result",
          "data": {
            "text/plain": [
              "(72000, 72000, 8000, 8000)"
            ]
          },
          "metadata": {},
          "execution_count": 9
        }
      ]
    },
    {
      "cell_type": "code",
      "metadata": {
        "colab": {
          "base_uri": "https://localhost:8080/"
        },
        "id": "ASYr5zCCbc39",
        "outputId": "695a5d81-a4af-4fc0-a8bf-c3bf7386a68b"
      },
      "source": [
        "# View the first 10 training sentences and their labels\n",
        "train_sentences[:10], train_labels[:10]"
      ],
      "execution_count": 11,
      "outputs": [
        {
          "output_type": "execute_result",
          "data": {
            "text/plain": [
              "(array([\"After playing with Ello-Opolis, Aqauria, and Fairytopia without any other Ello sets coming out, you get bored and stop playing with them. That's why you'll want to get Ello Shoptropolis! It's too cool with multi-color blocks and Ello fashions! The curvy walls add a new twist to the Ello set, along with the curly staircase!*INCLUDES COOL NEW STUFF LIKE ELLO PUPPY DOG AND SPARKLY POM-POMS! A MUST HAVE SET!*\",\n",
              "        \"Look, straight up. Don't get this Book! It is a joke of a book. This thing is awful. Bad art and all! This thing is terrible! I give this book a ZERO! And I mean that! It will do you absolutely no good! Please save your money!\",\n",
              "        \"This is a great book to read before making a trip to Gettysburg. A little over 500 pages in length, it covers Days 1 thru 3 and the Confederate's escape with a nice epilogue as well. Sears, with his descriptive narrative-like style, makes the reader feel like he's actually there witnessing the battles and events.Last time I was in Gettysburg, I had my picture taken next to the Hole of the Bullet that Shot Jennie (Ginnie) Wade. I was pleased to see that Sears covered even that topic.\",\n",
              "        \"My children love their leappads and I love the fact that they are continuing to expose themselves to reading even when I'm not supervising them. These phonics kits contain cute stories that help reinforce the concepts that I try to introduce. I don't believe that this kit will teach them phonics on it's own but I love them anyways. As with all leappad books, I wish they were a little sturdier as the pages can get caught on the pen when littles are turning them, causing rips and tears.\",\n",
              "        'We got these as a replacement after our boy lost the first pair we got him third time out, he was bummed so we surprised him with a new pair',\n",
              "        'This stroller really gives you a workout. Everyday when I take out my daughter I start off by putting on my music, which my daughter loves, and then from there the workout begins. I can feel the burn in my legs automatically when I am strolling with my daughter.',\n",
              "        'There was something very charming about this movie. I only wish there was a whole series of these films. \"The Adventures Of Wanda Nevada\". The VHS tape I purchased had some serious issues which detracted some of my enjoyment of the movie. Come on, when will the USA ever get a DVD release of this movie like Europe has?',\n",
              "        \"One good thing: they FINALLY made it possible to disable the most useless key on the keyboard, the CapsLock. A stupid key that needs to be exiled to a remote part of the keyboard, if not eliminated altogether. Fortunately, it is now possible to disable this key. A proper fix simply would have moved it.But what the F is this F Lock key? Why is the default position 'OFF'? Why is there no way, (other than a registry fix) to change the default position of this key? Is MS once again going stupid on us?MS also thinks that we are all idiots, and that we delete more than we write. So they enlarged the delete key. Dumb idea. Return the insert key to where it belongs. My games need it there. And you know... the Start, and Menu key shouldn't be down where one might accidently press it while typing other stuff. More irritating than the Caps Lock.D+ MS. You can do better work.\",\n",
              "        'i have bought several of these over the years- all break in a year.......i was told does not work long in clorinated water',\n",
              "        \"Love all the early years of Sawyer Brown. Their self-titled album along with Shakin' and Out Goin' Cattin' were the first cassette tapes I owned growing up.\"],\n",
              "       dtype=object), array([1, 0, 1, 1, 1, 1, 1, 0, 0, 1]))"
            ]
          },
          "metadata": {},
          "execution_count": 11
        }
      ]
    },
    {
      "cell_type": "markdown",
      "source": [
        "## Converting text into numbers"
      ],
      "metadata": {
        "id": "R8g6_urIa2If"
      }
    },
    {
      "cell_type": "markdown",
      "source": [
        "### Text vectorization (tokenization)"
      ],
      "metadata": {
        "id": "aDfwCv5Aa5QO"
      }
    },
    {
      "cell_type": "code",
      "metadata": {
        "id": "9IyudtB9p6z4"
      },
      "source": [
        "import tensorflow as tf\n",
        "from tensorflow.keras.layers import TextVectorization\n",
        "# Note: in TensorFlow 2.6+, you no longer need \"layers.experimental.preprocessing\"\n",
        "# you can use: \"tf.keras.layers.TextVectorization\", see https://github.com/tensorflow/tensorflow/releases/tag/v2.6.0 for more\n",
        "\n",
        "# Use the default TextVectorization variables\n",
        "text_vectorizer = TextVectorization(max_tokens=None, # how many words in the vocabulary (all of the different words in your text)\n",
        "                                    standardize=\"lower_and_strip_punctuation\", # how to process text\n",
        "                                    split=\"whitespace\", # how to split tokens\n",
        "                                    ngrams=None, # create groups of n-words?\n",
        "                                    output_mode=\"int\", # how to map tokens to numbers\n",
        "                                    output_sequence_length=None) # how long should the output sequence of tokens be?"
      ],
      "execution_count": 10,
      "outputs": []
    },
    {
      "cell_type": "code",
      "metadata": {
        "id": "kp3vcRO0qJq5",
        "colab": {
          "base_uri": "https://localhost:8080/"
        },
        "outputId": "c281b234-0e76-4c56-d569-fa6f76ccc240"
      },
      "source": [
        "# Find average number of tokens (words) in training reviews\n",
        "round(sum([len(i.split()) for i in train_sentences])/len(train_sentences))"
      ],
      "execution_count": 13,
      "outputs": [
        {
          "output_type": "execute_result",
          "data": {
            "text/plain": [
              "74"
            ]
          },
          "metadata": {},
          "execution_count": 13
        }
      ]
    },
    {
      "cell_type": "code",
      "metadata": {
        "id": "Tg_7lGCSqbWb"
      },
      "source": [
        "# Setup text vectorization with custom variables\n",
        "max_vocab_length = 10000 # max number of words to have in our vocabulary\n",
        "max_length = 50 # max length our sequences will be (e.g. how many words from a review does our model see?)\n",
        "\n",
        "text_vectorizer = TextVectorization(max_tokens=max_vocab_length,\n",
        "                                    output_mode=\"int\",\n",
        "                                    output_sequence_length=max_length)"
      ],
      "execution_count": 11,
      "outputs": []
    },
    {
      "cell_type": "code",
      "metadata": {
        "id": "eZXARxrrw70x"
      },
      "source": [
        "# Fit the text vectorizer to the training text\n",
        "text_vectorizer.adapt(train_sentences)"
      ],
      "execution_count": 12,
      "outputs": []
    },
    {
      "cell_type": "markdown",
      "metadata": {
        "id": "pnSiHIZG8BHI"
      },
      "source": [
        "### Creating an Embedding using an Embedding Layer"
      ]
    },
    {
      "cell_type": "code",
      "metadata": {
        "colab": {
          "base_uri": "https://localhost:8080/"
        },
        "id": "LwjEtoA38CJm",
        "outputId": "4b460520-3560-4121-e587-3f8c73e6cb0c"
      },
      "source": [
        "tf.random.set_seed(42)\n",
        "from tensorflow.keras import layers\n",
        "\n",
        "embedding = layers.Embedding(input_dim=max_vocab_length, # set input shape\n",
        "                             output_dim=128, # set size of embedding vector\n",
        "                             embeddings_initializer=\"uniform\", # default, intialize randomly\n",
        "                             input_length=max_length, # how long is each input\n",
        "                             name=\"embedding_1\") \n",
        "\n",
        "embedding"
      ],
      "execution_count": 13,
      "outputs": [
        {
          "output_type": "execute_result",
          "data": {
            "text/plain": [
              "<keras.layers.embeddings.Embedding at 0x7f82a012f550>"
            ]
          },
          "metadata": {},
          "execution_count": 13
        }
      ]
    },
    {
      "cell_type": "markdown",
      "metadata": {
        "id": "iLGRVhvtXZil"
      },
      "source": [
        "## Model 0: Naive Bayes with TF-IDF Encoder (baseline)\n"
      ]
    },
    {
      "cell_type": "code",
      "metadata": {
        "id": "FaKrkb5_8PZj",
        "colab": {
          "base_uri": "https://localhost:8080/"
        },
        "outputId": "aac62e73-e45b-4bc3-84eb-e4ec559ff49e"
      },
      "source": [
        "from sklearn.feature_extraction.text import TfidfVectorizer\n",
        "from sklearn.naive_bayes import MultinomialNB\n",
        "from sklearn.pipeline import Pipeline\n",
        "\n",
        "# Create tokenization and modelling pipeline\n",
        "NaiveBayes_model = Pipeline([\n",
        "                    (\"tfidf\", TfidfVectorizer()), # convert words to numbers using tfidf\n",
        "                    (\"clf\", MultinomialNB()) # model the text\n",
        "])\n",
        "\n",
        "# Fit the pipeline to the training data\n",
        "NaiveBayes_model.fit(train_sentences, train_labels)"
      ],
      "execution_count": 14,
      "outputs": [
        {
          "output_type": "execute_result",
          "data": {
            "text/plain": [
              "Pipeline(steps=[('tfidf', TfidfVectorizer()), ('clf', MultinomialNB())])"
            ]
          },
          "metadata": {},
          "execution_count": 14
        }
      ]
    },
    {
      "cell_type": "code",
      "metadata": {
        "id": "AcZfcESCXiOB",
        "colab": {
          "base_uri": "https://localhost:8080/"
        },
        "outputId": "90aec25e-87d3-420d-8d62-867e690f3238"
      },
      "source": [
        "baseline_score = NaiveBayes_model.score(val_sentences, val_labels)\n",
        "print(f\"Our baseline model achieves an accuracy of: {baseline_score*100:.2f}%\")"
      ],
      "execution_count": 15,
      "outputs": [
        {
          "output_type": "stream",
          "name": "stdout",
          "text": [
            "Our baseline model achieves an accuracy of: 82.12%\n"
          ]
        }
      ]
    },
    {
      "cell_type": "code",
      "metadata": {
        "id": "baEcqEILXirU",
        "colab": {
          "base_uri": "https://localhost:8080/"
        },
        "outputId": "d57de671-7f2a-4a72-962c-7d0574a1cfa9"
      },
      "source": [
        "# Make predictions\n",
        "baseline_preds = NaiveBayes_model.predict(val_sentences)\n",
        "baseline_preds[:20]"
      ],
      "execution_count": 16,
      "outputs": [
        {
          "output_type": "execute_result",
          "data": {
            "text/plain": [
              "array([1, 0, 0, 1, 0, 1, 0, 1, 1, 0, 1, 1, 1, 0, 0, 0, 1, 1, 1, 0])"
            ]
          },
          "metadata": {},
          "execution_count": 16
        }
      ]
    },
    {
      "cell_type": "markdown",
      "metadata": {
        "id": "1dK4-m85YZ0j"
      },
      "source": [
        "### Creating an evaluation function for our model experiments"
      ]
    },
    {
      "cell_type": "code",
      "metadata": {
        "id": "LU5sGONIXm16"
      },
      "source": [
        "# Function to evaluate: accuracy, precision, recall, f1-score\n",
        "from sklearn.metrics import accuracy_score, precision_recall_fscore_support\n",
        "\n",
        "def calculate_results(y_true, y_pred):\n",
        "  \"\"\"\n",
        "  Calculates model accuracy, precision, recall and f1 score of a binary classification model.\n",
        "\n",
        "  Args:\n",
        "  -----\n",
        "  y_true = true labels in the form of a 1D array\n",
        "  y_pred = predicted labels in the form of a 1D array\n",
        "\n",
        "  Returns a dictionary of accuracy, precision, recall, f1-score.\n",
        "  \"\"\"\n",
        "  # Calculate model accuracy\n",
        "  model_accuracy = accuracy_score(y_true, y_pred) * 100\n",
        "  # Calculate model precision, recall and f1 score using \"weighted\" average\n",
        "  model_precision, model_recall, model_f1, _ = precision_recall_fscore_support(y_true, y_pred, average=\"weighted\")\n",
        "  model_results = {\"accuracy\": model_accuracy,\n",
        "                  \"precision\": model_precision,\n",
        "                  \"recall\": model_recall,\n",
        "                  \"f1\": model_f1}\n",
        "  return model_results"
      ],
      "execution_count": 28,
      "outputs": []
    },
    {
      "cell_type": "code",
      "metadata": {
        "id": "ephLR9KTYd9a",
        "colab": {
          "base_uri": "https://localhost:8080/"
        },
        "outputId": "6f4f51fb-26a2-47e0-85d0-f2359d7412b6"
      },
      "source": [
        "# Get baseline results\n",
        "baseline_results = calculate_results(y_true=val_labels,\n",
        "                                     y_pred=baseline_preds)\n",
        "baseline_results"
      ],
      "execution_count": 29,
      "outputs": [
        {
          "output_type": "execute_result",
          "data": {
            "text/plain": [
              "{'accuracy': 82.125,\n",
              " 'f1': 0.8211229218463382,\n",
              " 'precision': 0.8223805747375424,\n",
              " 'recall': 0.82125}"
            ]
          },
          "metadata": {},
          "execution_count": 29
        }
      ]
    },
    {
      "cell_type": "markdown",
      "metadata": {
        "id": "NLSCWElkYexm"
      },
      "source": [
        "## Model 1: Feed Forward Neural Network (dense model)"
      ]
    },
    {
      "cell_type": "code",
      "source": [
        "# Download helper functions script\n",
        "!wget https://raw.githubusercontent.com/sagarreddy36/tensorflow-deep-learning/main/helper_functions.py"
      ],
      "metadata": {
        "colab": {
          "base_uri": "https://localhost:8080/"
        },
        "id": "rGb7ioYv1uJq",
        "outputId": "c453cdf7-f2f7-4c59-be43-130973ecd76b"
      },
      "execution_count": 17,
      "outputs": [
        {
          "output_type": "stream",
          "name": "stdout",
          "text": [
            "--2022-01-29 11:19:43--  https://raw.githubusercontent.com/sagarreddy36/tensorflow-deep-learning/main/helper_functions.py\n",
            "Resolving raw.githubusercontent.com (raw.githubusercontent.com)... 185.199.108.133, 185.199.109.133, 185.199.110.133, ...\n",
            "Connecting to raw.githubusercontent.com (raw.githubusercontent.com)|185.199.108.133|:443... connected.\n",
            "HTTP request sent, awaiting response... 200 OK\n",
            "Length: 10951 (11K) [text/plain]\n",
            "Saving to: ‘helper_functions.py’\n",
            "\n",
            "\rhelper_functions.py   0%[                    ]       0  --.-KB/s               \rhelper_functions.py 100%[===================>]  10.69K  --.-KB/s    in 0s      \n",
            "\n",
            "2022-01-29 11:19:44 (72.2 MB/s) - ‘helper_functions.py’ saved [10951/10951]\n",
            "\n"
          ]
        }
      ]
    },
    {
      "cell_type": "code",
      "metadata": {
        "id": "WpfUVCGDSt13"
      },
      "source": [
        "# Create tensorboard callback (need to create a new one for each model)\n",
        "from helper_functions import create_tensorboard_callback\n",
        "\n",
        "# Create directory to save TensorBoard logs\n",
        "SAVE_DIR = \"model_logs\""
      ],
      "execution_count": 18,
      "outputs": []
    },
    {
      "cell_type": "code",
      "metadata": {
        "id": "R-pSW9ewfrqh"
      },
      "source": [
        "from tensorflow.keras import layers"
      ],
      "execution_count": 19,
      "outputs": []
    },
    {
      "cell_type": "code",
      "metadata": {
        "id": "ajZjXsX6TFJv"
      },
      "source": [
        "# Build model with the Functional API\n",
        "from tensorflow.keras import layers\n",
        "inputs = layers.Input(shape=(1,), dtype=\"string\") # inputs are 1-dimensional strings\n",
        "x = text_vectorizer(inputs) # turn the input text into numbers\n",
        "x = embedding(x) # create an embedding of the numerized numbers\n",
        "x = layers.GlobalAveragePooling1D()(x) # lower the dimensionality of the embedding (try running the model without this layer and see what happens)\n",
        "#x = layers.GlobalMaxPool1D()(x) # Instead of GlobalAveragePooling1D, you can try GlobalMaxPool1D to see if it can improve accuracy.\n",
        "outputs = layers.Dense(1, activation=\"sigmoid\")(x) # create the output layer, want binary outputs so use sigmoid activation\n",
        "SimpleDense_model = tf.keras.Model(inputs, outputs, name=\"SimpleDense_model\") # construct the model"
      ],
      "execution_count": 20,
      "outputs": []
    },
    {
      "cell_type": "code",
      "metadata": {
        "id": "UNw0Et5YTNhH"
      },
      "source": [
        "# Compile model\n",
        "SimpleDense_model.compile(loss=\"binary_crossentropy\",\n",
        "                optimizer=tf.keras.optimizers.Adam(),\n",
        "                metrics=[\"accuracy\"])"
      ],
      "execution_count": 21,
      "outputs": []
    },
    {
      "cell_type": "code",
      "metadata": {
        "colab": {
          "base_uri": "https://localhost:8080/"
        },
        "id": "brNhDasKTPQY",
        "outputId": "44abb07f-d149-4d12-d5b1-df9ecb758b77"
      },
      "source": [
        "# Get a summary of the model\n",
        "SimpleDense_model.summary()"
      ],
      "execution_count": 22,
      "outputs": [
        {
          "output_type": "stream",
          "name": "stdout",
          "text": [
            "Model: \"SimpleDense_model\"\n",
            "_________________________________________________________________\n",
            " Layer (type)                Output Shape              Param #   \n",
            "=================================================================\n",
            " input_1 (InputLayer)        [(None, 1)]               0         \n",
            "                                                                 \n",
            " text_vectorization_1 (TextV  (None, 50)               0         \n",
            " ectorization)                                                   \n",
            "                                                                 \n",
            " embedding_1 (Embedding)     (None, 50, 128)           1280000   \n",
            "                                                                 \n",
            " global_average_pooling1d (G  (None, 128)              0         \n",
            " lobalAveragePooling1D)                                          \n",
            "                                                                 \n",
            " dense (Dense)               (None, 1)                 129       \n",
            "                                                                 \n",
            "=================================================================\n",
            "Total params: 1,280,129\n",
            "Trainable params: 1,280,129\n",
            "Non-trainable params: 0\n",
            "_________________________________________________________________\n"
          ]
        }
      ]
    },
    {
      "cell_type": "code",
      "metadata": {
        "colab": {
          "base_uri": "https://localhost:8080/"
        },
        "id": "qyk9MhbdUx0y",
        "outputId": "f631251a-1885-40f2-dfd6-d3d20cd64c1b"
      },
      "source": [
        "train_sentences.shape,val_sentences.shape,train_sentences[:10]"
      ],
      "execution_count": 34,
      "outputs": [
        {
          "output_type": "execute_result",
          "data": {
            "text/plain": [
              "((72000,),\n",
              " (8000,),\n",
              " array([\"After playing with Ello-Opolis, Aqauria, and Fairytopia without any other Ello sets coming out, you get bored and stop playing with them. That's why you'll want to get Ello Shoptropolis! It's too cool with multi-color blocks and Ello fashions! The curvy walls add a new twist to the Ello set, along with the curly staircase!*INCLUDES COOL NEW STUFF LIKE ELLO PUPPY DOG AND SPARKLY POM-POMS! A MUST HAVE SET!*\",\n",
              "        \"Look, straight up. Don't get this Book! It is a joke of a book. This thing is awful. Bad art and all! This thing is terrible! I give this book a ZERO! And I mean that! It will do you absolutely no good! Please save your money!\",\n",
              "        \"This is a great book to read before making a trip to Gettysburg. A little over 500 pages in length, it covers Days 1 thru 3 and the Confederate's escape with a nice epilogue as well. Sears, with his descriptive narrative-like style, makes the reader feel like he's actually there witnessing the battles and events.Last time I was in Gettysburg, I had my picture taken next to the Hole of the Bullet that Shot Jennie (Ginnie) Wade. I was pleased to see that Sears covered even that topic.\",\n",
              "        \"My children love their leappads and I love the fact that they are continuing to expose themselves to reading even when I'm not supervising them. These phonics kits contain cute stories that help reinforce the concepts that I try to introduce. I don't believe that this kit will teach them phonics on it's own but I love them anyways. As with all leappad books, I wish they were a little sturdier as the pages can get caught on the pen when littles are turning them, causing rips and tears.\",\n",
              "        'We got these as a replacement after our boy lost the first pair we got him third time out, he was bummed so we surprised him with a new pair',\n",
              "        'This stroller really gives you a workout. Everyday when I take out my daughter I start off by putting on my music, which my daughter loves, and then from there the workout begins. I can feel the burn in my legs automatically when I am strolling with my daughter.',\n",
              "        'There was something very charming about this movie. I only wish there was a whole series of these films. \"The Adventures Of Wanda Nevada\". The VHS tape I purchased had some serious issues which detracted some of my enjoyment of the movie. Come on, when will the USA ever get a DVD release of this movie like Europe has?',\n",
              "        \"One good thing: they FINALLY made it possible to disable the most useless key on the keyboard, the CapsLock. A stupid key that needs to be exiled to a remote part of the keyboard, if not eliminated altogether. Fortunately, it is now possible to disable this key. A proper fix simply would have moved it.But what the F is this F Lock key? Why is the default position 'OFF'? Why is there no way, (other than a registry fix) to change the default position of this key? Is MS once again going stupid on us?MS also thinks that we are all idiots, and that we delete more than we write. So they enlarged the delete key. Dumb idea. Return the insert key to where it belongs. My games need it there. And you know... the Start, and Menu key shouldn't be down where one might accidently press it while typing other stuff. More irritating than the Caps Lock.D+ MS. You can do better work.\",\n",
              "        'i have bought several of these over the years- all break in a year.......i was told does not work long in clorinated water',\n",
              "        \"Love all the early years of Sawyer Brown. Their self-titled album along with Shakin' and Out Goin' Cattin' were the first cassette tapes I owned growing up.\"],\n",
              "       dtype=object))"
            ]
          },
          "metadata": {},
          "execution_count": 34
        }
      ]
    },
    {
      "cell_type": "code",
      "metadata": {
        "colab": {
          "base_uri": "https://localhost:8080/"
        },
        "id": "1g4zMw45Uz-h",
        "outputId": "8d4a72a8-f060-47d9-9715-775563b6f0d7"
      },
      "source": [
        "train_labels.shape, val_labels.shape"
      ],
      "execution_count": 35,
      "outputs": [
        {
          "output_type": "execute_result",
          "data": {
            "text/plain": [
              "((72000,), (8000,))"
            ]
          },
          "metadata": {},
          "execution_count": 35
        }
      ]
    },
    {
      "cell_type": "code",
      "metadata": {
        "id": "1_j1Jm4ZTRTA",
        "colab": {
          "base_uri": "https://localhost:8080/"
        },
        "outputId": "c1163ceb-947b-48ff-991e-75e1a7c5c087"
      },
      "source": [
        "# Fit the model\n",
        "# input sentences can be a list of strings due to text preprocessing layer built-in model\n",
        "SimpleDense_model_history = SimpleDense_model.fit(train_sentences, \n",
        "                              train_labels,\n",
        "                              epochs=5,\n",
        "                              validation_data=(val_sentences, val_labels),\n",
        "                              callbacks=[create_tensorboard_callback(dir_name=SAVE_DIR,experiment_name=\"simple_dense_model\")])"
      ],
      "execution_count": 23,
      "outputs": [
        {
          "output_type": "stream",
          "name": "stdout",
          "text": [
            "Saving TensorBoard log files to: model_logs/simple_dense_model/20220129-112141\n",
            "Epoch 1/5\n",
            "2250/2250 [==============================] - 18s 7ms/step - loss: 0.4599 - accuracy: 0.7890 - val_loss: 0.3939 - val_accuracy: 0.8263\n",
            "Epoch 2/5\n",
            "2250/2250 [==============================] - 16s 7ms/step - loss: 0.3625 - accuracy: 0.8426 - val_loss: 0.3924 - val_accuracy: 0.8282\n",
            "Epoch 3/5\n",
            "2250/2250 [==============================] - 15s 7ms/step - loss: 0.3435 - accuracy: 0.8536 - val_loss: 0.3977 - val_accuracy: 0.8265\n",
            "Epoch 4/5\n",
            "2250/2250 [==============================] - 14s 6ms/step - loss: 0.3338 - accuracy: 0.8587 - val_loss: 0.4046 - val_accuracy: 0.8251\n",
            "Epoch 5/5\n",
            "2250/2250 [==============================] - 10s 5ms/step - loss: 0.3277 - accuracy: 0.8604 - val_loss: 0.4111 - val_accuracy: 0.8206\n"
          ]
        }
      ]
    },
    {
      "cell_type": "code",
      "metadata": {
        "id": "HyBcNCKcTfEw",
        "colab": {
          "base_uri": "https://localhost:8080/"
        },
        "outputId": "c4e4f3a1-496e-4d5c-fa69-d3c3b325716f"
      },
      "source": [
        "# Check the results\n",
        "SimpleDense_model.evaluate(val_sentences, val_labels)"
      ],
      "execution_count": 24,
      "outputs": [
        {
          "output_type": "stream",
          "name": "stdout",
          "text": [
            "250/250 [==============================] - 1s 3ms/step - loss: 0.4111 - accuracy: 0.8206\n"
          ]
        },
        {
          "output_type": "execute_result",
          "data": {
            "text/plain": [
              "[0.41114261746406555, 0.8206250071525574]"
            ]
          },
          "metadata": {},
          "execution_count": 24
        }
      ]
    },
    {
      "cell_type": "code",
      "metadata": {
        "colab": {
          "base_uri": "https://localhost:8080/"
        },
        "id": "F22bndD_5h57",
        "outputId": "0ef95e7d-7d5f-449f-ed7c-54d7dca10289"
      },
      "source": [
        "# Make predictions (these come back in the form of probabilities)\n",
        "SimpleDense_model_pred_probs = SimpleDense_model.predict(val_sentences)\n",
        "SimpleDense_model_pred_probs[:10] # only print out the first 10 prediction probabilities"
      ],
      "execution_count": 25,
      "outputs": [
        {
          "output_type": "execute_result",
          "data": {
            "text/plain": [
              "array([[0.695515  ],\n",
              "       [0.00734269],\n",
              "       [0.05022221],\n",
              "       [0.9421086 ],\n",
              "       [0.00471374],\n",
              "       [0.9630576 ],\n",
              "       [0.00176977],\n",
              "       [0.94156396],\n",
              "       [0.98296654],\n",
              "       [0.78376204]], dtype=float32)"
            ]
          },
          "metadata": {},
          "execution_count": 25
        }
      ]
    },
    {
      "cell_type": "code",
      "metadata": {
        "colab": {
          "base_uri": "https://localhost:8080/"
        },
        "id": "u65EddG65lz3",
        "outputId": "0ef56c2b-8619-45d7-dcf4-d9d195aed27e"
      },
      "source": [
        "# Turn prediction probabilities into single-dimension tensor of floats\n",
        "SimpleDense_model_preds = tf.squeeze(tf.round(SimpleDense_model_pred_probs)) # squeeze removes single dimensions\n",
        "SimpleDense_model_preds[:20]"
      ],
      "execution_count": 26,
      "outputs": [
        {
          "output_type": "execute_result",
          "data": {
            "text/plain": [
              "<tf.Tensor: shape=(20,), dtype=float32, numpy=\n",
              "array([1., 0., 0., 1., 0., 1., 0., 1., 1., 1., 1., 0., 1., 0., 0., 0., 1.,\n",
              "       1., 1., 0.], dtype=float32)>"
            ]
          },
          "metadata": {},
          "execution_count": 26
        }
      ]
    },
    {
      "cell_type": "code",
      "metadata": {
        "colab": {
          "base_uri": "https://localhost:8080/"
        },
        "id": "NGoKa0Xs5neh",
        "outputId": "ae3df882-73d2-4e88-ac4f-1fd85bfaa03a"
      },
      "source": [
        "# Calculate model_1 metrics\n",
        "SimpleDense_model_results = calculate_results(y_true=val_labels, \n",
        "                                    y_pred=SimpleDense_model_preds)\n",
        "SimpleDense_model_results"
      ],
      "execution_count": 30,
      "outputs": [
        {
          "output_type": "execute_result",
          "data": {
            "text/plain": [
              "{'accuracy': 82.0625,\n",
              " 'f1': 0.8205458159240163,\n",
              " 'precision': 0.8210522019180614,\n",
              " 'recall': 0.820625}"
            ]
          },
          "metadata": {},
          "execution_count": 30
        }
      ]
    },
    {
      "cell_type": "code",
      "metadata": {
        "colab": {
          "base_uri": "https://localhost:8080/"
        },
        "id": "Wx8ejMd45rEK",
        "outputId": "76194ab9-cef3-4e47-a3fa-207af58fe10a"
      },
      "source": [
        "# Is our simple Keras model better than our baseline model?\n",
        "import numpy as np\n",
        "np.array(list(SimpleDense_model_results.values())) > np.array(list(baseline_results.values()))"
      ],
      "execution_count": 31,
      "outputs": [
        {
          "output_type": "execute_result",
          "data": {
            "text/plain": [
              "array([False, False, False, False])"
            ]
          },
          "metadata": {},
          "execution_count": 31
        }
      ]
    },
    {
      "cell_type": "code",
      "metadata": {
        "colab": {
          "base_uri": "https://localhost:8080/"
        },
        "id": "3KLxZMoE5soa",
        "outputId": "19b37f3b-4c7c-4b4c-ac43-cba4e796863f"
      },
      "source": [
        "# Create a helper function to compare our baseline results to new model results\n",
        "def compare_baseline_to_new_results(baseline_results, new_model_results):\n",
        "  for key, value in baseline_results.items():\n",
        "    print(f\"Baseline {key}: {value:.2f}, New {key}: {new_model_results[key]:.2f}, Difference: {new_model_results[key]-value:.2f}\")\n",
        "\n",
        "compare_baseline_to_new_results(baseline_results=baseline_results, \n",
        "                                new_model_results=SimpleDense_model_results)"
      ],
      "execution_count": 32,
      "outputs": [
        {
          "output_type": "stream",
          "name": "stdout",
          "text": [
            "Baseline accuracy: 82.12, New accuracy: 82.06, Difference: -0.06\n",
            "Baseline precision: 0.82, New precision: 0.82, Difference: -0.00\n",
            "Baseline recall: 0.82, New recall: 0.82, Difference: -0.00\n",
            "Baseline f1: 0.82, New f1: 0.82, Difference: -0.00\n"
          ]
        }
      ]
    },
    {
      "cell_type": "markdown",
      "source": [
        "## Confusion Matrix"
      ],
      "metadata": {
        "id": "T3q7Dq_frH2l"
      }
    },
    {
      "cell_type": "code",
      "source": [
        "# Our function needs a different name to sklearn's plot_confusion_matrix\n",
        "def make_confusion_matrix(y_true, y_pred, classes=None, figsize=(10, 10), text_size=15): \n",
        "  \"\"\"Makes a labelled confusion matrix comparing predictions and ground truth labels.\n",
        "\n",
        "  If classes is passed, confusion matrix will be labelled, if not, integer class values\n",
        "  will be used.\n",
        "\n",
        "  Args:\n",
        "    y_true: Array of truth labels (must be same shape as y_pred).\n",
        "    y_pred: Array of predicted labels (must be same shape as y_true).\n",
        "    classes: Array of class labels (e.g. string form). If `None`, integer labels are used.\n",
        "    figsize: Size of output figure (default=(10, 10)).\n",
        "    text_size: Size of output figure text (default=15).\n",
        "  \n",
        "  Returns:\n",
        "    A labelled confusion matrix plot comparing y_true and y_pred.\n",
        "\n",
        "  Example usage:\n",
        "    make_confusion_matrix(y_true=test_labels, # ground truth test labels\n",
        "                          y_pred=y_preds, # predicted labels\n",
        "                          classes=class_names, # array of class label names\n",
        "                          figsize=(15, 15),\n",
        "                          text_size=10)\n",
        "  \"\"\"  "
      ],
      "metadata": {
        "id": "kU8SDVp83787"
      },
      "execution_count": 33,
      "outputs": []
    },
    {
      "cell_type": "code",
      "source": [
        "# Note: The following confusion matrix code is a remix of Scikit-Learn's \n",
        "# plot_confusion_matrix function - https://scikit-learn.org/stable/modules/generated/sklearn.metrics.plot_confusion_matrix.html\n",
        "# and Made with ML's introductory notebook - https://github.com/GokuMohandas/MadeWithML/blob/main/notebooks/08_Neural_Networks.ipynb \n",
        "import itertools\n",
        "from sklearn.metrics import confusion_matrix\n",
        "import matplotlib.pyplot as plt\n",
        "\n",
        "figsize = (10, 10)\n",
        "\n",
        "# Create the confusion matrix\n",
        "cm = confusion_matrix(val_labels, tf.round(SimpleDense_model_preds))\n",
        "cm_norm = cm.astype(\"float\") / cm.sum(axis=1)[:, np.newaxis] # normalize it\n",
        "n_classes = cm.shape[0]\n",
        "\n",
        "# Let's prettify it\n",
        "fig, ax = plt.subplots(figsize=figsize)\n",
        "# Create a matrix plot\n",
        "cax = ax.matshow(cm, cmap=plt.cm.Blues) # https://matplotlib.org/3.2.0/api/_as_gen/matplotlib.axes.Axes.matshow.html\n",
        "fig.colorbar(cax)\n",
        "\n",
        "# Create classes\n",
        "classes = False\n",
        "\n",
        "if classes:\n",
        "  labels = classes\n",
        "else:\n",
        "  labels = np.arange(cm.shape[0])\n",
        "\n",
        "# Label the axes\n",
        "ax.set(title=\"Confusion Matrix\",\n",
        "       xlabel=\"Predicted label\",\n",
        "       ylabel=\"True label\",\n",
        "       xticks=np.arange(n_classes),\n",
        "       yticks=np.arange(n_classes),\n",
        "       xticklabels=labels,\n",
        "       yticklabels=labels)\n",
        "\n",
        "# Set x-axis labels to bottom\n",
        "ax.xaxis.set_label_position(\"bottom\")\n",
        "ax.xaxis.tick_bottom()\n",
        "\n",
        "# Adjust label size\n",
        "ax.xaxis.label.set_size(20)\n",
        "ax.yaxis.label.set_size(20)\n",
        "ax.title.set_size(20)\n",
        "\n",
        "# Set threshold for different colors\n",
        "threshold = (cm.max() + cm.min()) / 2.\n",
        "\n",
        "# Plot the text on each cell\n",
        "for i, j in itertools.product(range(cm.shape[0]), range(cm.shape[1])):\n",
        "  plt.text(j, i, f\"{cm[i, j]} ({cm_norm[i, j]*100:.1f}%)\",\n",
        "           horizontalalignment=\"center\",\n",
        "           color=\"white\" if cm[i, j] > threshold else \"black\",\n",
        "           size=15)"
      ],
      "metadata": {
        "colab": {
          "base_uri": "https://localhost:8080/",
          "height": 574
        },
        "id": "d3ZxDVybrHCO",
        "outputId": "b1aa1443-89e8-4987-a5c2-1b256b027b53"
      },
      "execution_count": 34,
      "outputs": [
        {
          "output_type": "display_data",
          "data": {
            "image/png": "[encoded data removed]",
            "text/plain": [
              "<Figure size 720x720 with 2 Axes>"
            ]
          },
          "metadata": {
            "needs_background": "light"
          }
        }
      ]
    },
    {
      "cell_type": "markdown",
      "source": [
        "### Visualise the layers and their outputs"
      ],
      "metadata": {
        "id": "JDgiDh7kBhYn"
      }
    },
    {
      "cell_type": "code",
      "source": [
        "from tensorflow.keras.utils import plot_model\n",
        "\n",
        "# See the inputs and outputs of each layer\n",
        "plot_model(SimpleDense_model, show_shapes=True)"
      ],
      "metadata": {
        "id": "kqs9mQAFBbYA",
        "colab": {
          "base_uri": "https://localhost:8080/",
          "height": 533
        },
        "outputId": "1991ded2-5d9b-42ca-b11b-570ac361bff5"
      },
      "execution_count": 35,
      "outputs": [
        {
          "output_type": "execute_result",
          "data": {
            "image/png": "[encoded data removed]",
            "text/plain": [
              "<IPython.core.display.Image object>"
            ]
          },
          "metadata": {},
          "execution_count": 35
        }
      ]
    },
    {
      "cell_type": "markdown",
      "metadata": {
        "id": "eplYB1tjLwjA"
      },
      "source": [
        "##Model 2: LSTM (Long Short-Term Memory)"
      ]
    },
    {
      "cell_type": "code",
      "metadata": {
        "colab": {
          "base_uri": "https://localhost:8080/"
        },
        "id": "36qYHAoGLuLr",
        "outputId": "e60a86f6-e0c0-46dc-b331-b488334e2409"
      },
      "source": [
        "# Set random seed and create embedding layer (new embedding layer for each model)\n",
        "tf.random.set_seed(42)\n",
        "from tensorflow.keras import layers\n",
        "LSTM_model_embedding = layers.Embedding(input_dim=max_vocab_length,\n",
        "                                     output_dim=128,\n",
        "                                     embeddings_initializer=\"uniform\",\n",
        "                                     input_length=max_length,\n",
        "                                     name=\"embedding_2\")\n",
        "\n",
        "\n",
        "# Create LSTM model\n",
        "inputs = layers.Input(shape=(1,), dtype=\"string\")\n",
        "x = text_vectorizer(inputs)\n",
        "x = LSTM_model_embedding(x)\n",
        "print(x.shape)\n",
        "# x = layers.LSTM(64, return_sequences=True)(x) # return vector for each word in the review (you can stack RNN cells as long as return_sequences=True)\n",
        "x = layers.LSTM(64)(x) # return vector for whole sequence\n",
        "print(x.shape)\n",
        "# x = layers.Dense(64, activation=\"relu\")(x) # optional dense layer on top of output of LSTM cell\n",
        "outputs = layers.Dense(1, activation=\"sigmoid\")(x)\n",
        "LSTM_model = tf.keras.Model(inputs, outputs, name=\"LSTM_model\")"
      ],
      "execution_count": 36,
      "outputs": [
        {
          "output_type": "stream",
          "name": "stdout",
          "text": [
            "(None, 50, 128)\n",
            "(None, 64)\n"
          ]
        }
      ]
    },
    {
      "cell_type": "code",
      "metadata": {
        "id": "YjGqh6b_L1nD"
      },
      "source": [
        "# Compile model\n",
        "LSTM_model.compile(loss=\"binary_crossentropy\",\n",
        "                optimizer=tf.keras.optimizers.Adam(),\n",
        "                metrics=[\"accuracy\"])"
      ],
      "execution_count": 37,
      "outputs": []
    },
    {
      "cell_type": "code",
      "metadata": {
        "colab": {
          "base_uri": "https://localhost:8080/"
        },
        "id": "xVOhYLP8L40L",
        "outputId": "2d71bd98-d816-40b5-903d-96350cb85b06"
      },
      "source": [
        "LSTM_model.summary()"
      ],
      "execution_count": 38,
      "outputs": [
        {
          "output_type": "stream",
          "name": "stdout",
          "text": [
            "Model: \"LSTM_model\"\n",
            "_________________________________________________________________\n",
            " Layer (type)                Output Shape              Param #   \n",
            "=================================================================\n",
            " input_2 (InputLayer)        [(None, 1)]               0         \n",
            "                                                                 \n",
            " text_vectorization_1 (TextV  (None, 50)               0         \n",
            " ectorization)                                                   \n",
            "                                                                 \n",
            " embedding_2 (Embedding)     (None, 50, 128)           1280000   \n",
            "                                                                 \n",
            " lstm (LSTM)                 (None, 64)                49408     \n",
            "                                                                 \n",
            " dense_1 (Dense)             (None, 1)                 65        \n",
            "                                                                 \n",
            "=================================================================\n",
            "Total params: 1,329,473\n",
            "Trainable params: 1,329,473\n",
            "Non-trainable params: 0\n",
            "_________________________________________________________________\n"
          ]
        }
      ]
    },
    {
      "cell_type": "code",
      "metadata": {
        "id": "B3Wr8rj_MQ8j",
        "colab": {
          "base_uri": "https://localhost:8080/"
        },
        "outputId": "98f561dc-abb4-4762-d863-9cbb35ce5cda"
      },
      "source": [
        "# Fit model\n",
        "LSTM_model_history = LSTM_model.fit(train_sentences,\n",
        "                              train_labels,\n",
        "                              epochs=5,\n",
        "                              validation_data=(val_sentences, val_labels),\n",
        "                              callbacks=[create_tensorboard_callback(SAVE_DIR, \n",
        "                                                                     \"LSTM\")])"
      ],
      "execution_count": 40,
      "outputs": [
        {
          "output_type": "stream",
          "name": "stdout",
          "text": [
            "Saving TensorBoard log files to: model_logs/LSTM/20220129-112838\n",
            "Epoch 1/5\n",
            "2250/2250 [==============================] - 16s 7ms/step - loss: 0.1079 - accuracy: 0.9605 - val_loss: 0.5738 - val_accuracy: 0.8301\n",
            "Epoch 2/5\n",
            "2250/2250 [==============================] - 22s 10ms/step - loss: 0.0793 - accuracy: 0.9729 - val_loss: 0.6734 - val_accuracy: 0.8286\n",
            "Epoch 3/5\n",
            "2250/2250 [==============================] - 27s 12ms/step - loss: 0.0584 - accuracy: 0.9815 - val_loss: 0.6947 - val_accuracy: 0.8315\n",
            "Epoch 4/5\n",
            "2250/2250 [==============================] - 24s 10ms/step - loss: 0.0456 - accuracy: 0.9854 - val_loss: 0.7350 - val_accuracy: 0.8324\n",
            "Epoch 5/5\n",
            "2250/2250 [==============================] - 18s 8ms/step - loss: 0.0363 - accuracy: 0.9884 - val_loss: 0.8251 - val_accuracy: 0.8232\n"
          ]
        }
      ]
    },
    {
      "cell_type": "code",
      "metadata": {
        "colab": {
          "base_uri": "https://localhost:8080/"
        },
        "id": "mKjHxNHr34CX",
        "outputId": "b918f9d6-d7de-4084-88d7-abb770e18ac0"
      },
      "source": [
        "# Make predictions on the validation dataset\n",
        "LSTM_model_pred_probs = LSTM_model.predict(val_sentences)\n",
        "LSTM_model_pred_probs.shape, LSTM_model_pred_probs[:10] # view the first 10"
      ],
      "execution_count": 41,
      "outputs": [
        {
          "output_type": "execute_result",
          "data": {
            "text/plain": [
              "((8000, 1), array([[2.6160156e-04],\n",
              "        [1.0037901e-04],\n",
              "        [1.5881807e-03],\n",
              "        [9.9906129e-01],\n",
              "        [1.5500955e-03],\n",
              "        [4.8768288e-01],\n",
              "        [4.8161094e-04],\n",
              "        [9.9999344e-01],\n",
              "        [9.9940491e-01],\n",
              "        [7.4080261e-03]], dtype=float32))"
            ]
          },
          "metadata": {},
          "execution_count": 41
        }
      ]
    },
    {
      "cell_type": "code",
      "metadata": {
        "colab": {
          "base_uri": "https://localhost:8080/"
        },
        "id": "GzNo2VaX36nf",
        "outputId": "e702bd03-d879-4d4e-e07a-57d71a554a42"
      },
      "source": [
        "# Round out predictions and reduce to 1-dimensional array\n",
        "LSTM_model_preds = tf.squeeze(tf.round(LSTM_model_pred_probs))\n",
        "LSTM_model_preds[:10]"
      ],
      "execution_count": 42,
      "outputs": [
        {
          "output_type": "execute_result",
          "data": {
            "text/plain": [
              "<tf.Tensor: shape=(10,), dtype=float32, numpy=array([0., 0., 0., 1., 0., 0., 0., 1., 1., 0.], dtype=float32)>"
            ]
          },
          "metadata": {},
          "execution_count": 42
        }
      ]
    },
    {
      "cell_type": "code",
      "metadata": {
        "colab": {
          "base_uri": "https://localhost:8080/"
        },
        "id": "UCFxOvu73809",
        "outputId": "bae3a303-9e94-486a-cab4-05c78d402532"
      },
      "source": [
        "# Calculate LSTM model results\n",
        "LSTM_model_results = calculate_results(y_true=val_labels,\n",
        "                                    y_pred=LSTM_model_preds)\n",
        "LSTM_model_results"
      ],
      "execution_count": 43,
      "outputs": [
        {
          "output_type": "execute_result",
          "data": {
            "text/plain": [
              "{'accuracy': 82.325,\n",
              " 'f1': 0.8232373608456623,\n",
              " 'precision': 0.8232943029427763,\n",
              " 'recall': 0.82325}"
            ]
          },
          "metadata": {},
          "execution_count": 43
        }
      ]
    },
    {
      "cell_type": "code",
      "metadata": {
        "colab": {
          "base_uri": "https://localhost:8080/"
        },
        "id": "YSt-KVRZ3_He",
        "outputId": "697b5787-04a6-4e7d-9919-d0bd65919314"
      },
      "source": [
        "# Compare model 2 to baseline\n",
        "compare_baseline_to_new_results(baseline_results, LSTM_model_results)"
      ],
      "execution_count": 45,
      "outputs": [
        {
          "output_type": "stream",
          "name": "stdout",
          "text": [
            "Baseline accuracy: 82.12, New accuracy: 82.33, Difference: 0.20\n",
            "Baseline precision: 0.82, New precision: 0.82, Difference: 0.00\n",
            "Baseline recall: 0.82, New recall: 0.82, Difference: 0.00\n",
            "Baseline f1: 0.82, New f1: 0.82, Difference: 0.00\n"
          ]
        }
      ]
    },
    {
      "cell_type": "markdown",
      "metadata": {
        "id": "rMgAXJhz4BLP"
      },
      "source": [
        "## Model 3: GRU (Gated Recurrent Units)"
      ]
    },
    {
      "cell_type": "code",
      "metadata": {
        "id": "vM0C0k8o4CAP"
      },
      "source": [
        "# Set random seed and create embedding layer (new embedding layer for each model)\n",
        "tf.random.set_seed(42)\n",
        "from tensorflow.keras import layers\n",
        "GRU_model_embedding = layers.Embedding(input_dim=max_vocab_length,\n",
        "                                     output_dim=128,\n",
        "                                     embeddings_initializer=\"uniform\",\n",
        "                                     input_length=max_length,\n",
        "                                     name=\"embedding_3\")\n",
        "\n",
        "# Build an RNN using the GRU cell\n",
        "inputs = layers.Input(shape=(1,), dtype=\"string\")\n",
        "x = text_vectorizer(inputs)\n",
        "x = GRU_model_embedding(x)\n",
        "# x = layers.GRU(64, return_sequences=True) # stacking recurrent cells requires return_sequences=True\n",
        "x = layers.GRU(64)(x) \n",
        "# x = layers.Dense(64, activation=\"relu\")(x) # optional dense layer after GRU cell\n",
        "outputs = layers.Dense(1, activation=\"sigmoid\")(x)\n",
        "GRU_model = tf.keras.Model(inputs, outputs, name=\"GRU_model\")"
      ],
      "execution_count": 46,
      "outputs": []
    },
    {
      "cell_type": "code",
      "metadata": {
        "id": "Ik4FfWqm4FPy"
      },
      "source": [
        "# Compile GRU model\n",
        "GRU_model.compile(loss=\"binary_crossentropy\",\n",
        "                optimizer=tf.keras.optimizers.Adam(),\n",
        "                metrics=[\"accuracy\"])"
      ],
      "execution_count": 47,
      "outputs": []
    },
    {
      "cell_type": "code",
      "metadata": {
        "colab": {
          "base_uri": "https://localhost:8080/"
        },
        "id": "eL1axxzz4HBL",
        "outputId": "3e2d4126-89ec-4a3a-e91f-6facc95a3f99"
      },
      "source": [
        "# Get a summary of the GRU model\n",
        "GRU_model.summary()"
      ],
      "execution_count": 48,
      "outputs": [
        {
          "output_type": "stream",
          "name": "stdout",
          "text": [
            "Model: \"GRU_model\"\n",
            "_________________________________________________________________\n",
            " Layer (type)                Output Shape              Param #   \n",
            "=================================================================\n",
            " input_3 (InputLayer)        [(None, 1)]               0         \n",
            "                                                                 \n",
            " text_vectorization_1 (TextV  (None, 50)               0         \n",
            " ectorization)                                                   \n",
            "                                                                 \n",
            " embedding_3 (Embedding)     (None, 50, 128)           1280000   \n",
            "                                                                 \n",
            " gru (GRU)                   (None, 64)                37248     \n",
            "                                                                 \n",
            " dense_2 (Dense)             (None, 1)                 65        \n",
            "                                                                 \n",
            "=================================================================\n",
            "Total params: 1,317,313\n",
            "Trainable params: 1,317,313\n",
            "Non-trainable params: 0\n",
            "_________________________________________________________________\n"
          ]
        }
      ]
    },
    {
      "cell_type": "code",
      "metadata": {
        "id": "MEcPuHGf4JIV",
        "colab": {
          "base_uri": "https://localhost:8080/"
        },
        "outputId": "575d7c1a-e95e-49e6-c121-c6ea71602b92"
      },
      "source": [
        "# Fit model\n",
        "GRU_model_history = GRU_model.fit(train_sentences,\n",
        "                              train_labels,\n",
        "                              epochs=5,\n",
        "                              validation_data=(val_sentences, val_labels),\n",
        "                              callbacks=[create_tensorboard_callback(SAVE_DIR, \"GRU\")])"
      ],
      "execution_count": 49,
      "outputs": [
        {
          "output_type": "stream",
          "name": "stdout",
          "text": [
            "Saving TensorBoard log files to: model_logs/GRU/20220129-113050\n",
            "Epoch 1/5\n",
            "2250/2250 [==============================] - 18s 7ms/step - loss: 0.4262 - accuracy: 0.7938 - val_loss: 0.3524 - val_accuracy: 0.8480\n",
            "Epoch 2/5\n",
            "2250/2250 [==============================] - 15s 7ms/step - loss: 0.3059 - accuracy: 0.8696 - val_loss: 0.3490 - val_accuracy: 0.8508\n",
            "Epoch 3/5\n",
            "2250/2250 [==============================] - 15s 7ms/step - loss: 0.2506 - accuracy: 0.8963 - val_loss: 0.3688 - val_accuracy: 0.8413\n",
            "Epoch 4/5\n",
            "2250/2250 [==============================] - 16s 7ms/step - loss: 0.1934 - accuracy: 0.9228 - val_loss: 0.4121 - val_accuracy: 0.8322\n",
            "Epoch 5/5\n",
            "2250/2250 [==============================] - 16s 7ms/step - loss: 0.1424 - accuracy: 0.9449 - val_loss: 0.4975 - val_accuracy: 0.8309\n"
          ]
        }
      ]
    },
    {
      "cell_type": "code",
      "metadata": {
        "colab": {
          "base_uri": "https://localhost:8080/"
        },
        "id": "HIYWfxET4K5S",
        "outputId": "46db91bf-8d5b-42bb-b432-dc9a3766f4b0"
      },
      "source": [
        "# Make predictions on the validation data\n",
        "GRU_model_pred_probs = GRU_model.predict(val_sentences)\n",
        "GRU_model_pred_probs.shape, GRU_model_pred_probs[:10]"
      ],
      "execution_count": 50,
      "outputs": [
        {
          "output_type": "execute_result",
          "data": {
            "text/plain": [
              "((8000, 1), array([[4.3048328e-01],\n",
              "        [5.0133374e-03],\n",
              "        [3.7571252e-03],\n",
              "        [9.9626762e-01],\n",
              "        [1.0205139e-03],\n",
              "        [9.3466616e-01],\n",
              "        [2.4172942e-04],\n",
              "        [9.9329245e-01],\n",
              "        [9.8116159e-01],\n",
              "        [6.7355430e-01]], dtype=float32))"
            ]
          },
          "metadata": {},
          "execution_count": 50
        }
      ]
    },
    {
      "cell_type": "code",
      "metadata": {
        "colab": {
          "base_uri": "https://localhost:8080/"
        },
        "id": "ySgvB6dr4N_W",
        "outputId": "22249b92-b095-4a94-bfce-9f629aab62c8"
      },
      "source": [
        "# Convert prediction probabilities to prediction classes\n",
        "GRU_model_preds = tf.squeeze(tf.round(GRU_model_pred_probs))\n",
        "GRU_model_preds[:10]"
      ],
      "execution_count": 51,
      "outputs": [
        {
          "output_type": "execute_result",
          "data": {
            "text/plain": [
              "<tf.Tensor: shape=(10,), dtype=float32, numpy=array([0., 0., 0., 1., 0., 1., 0., 1., 1., 1.], dtype=float32)>"
            ]
          },
          "metadata": {},
          "execution_count": 51
        }
      ]
    },
    {
      "cell_type": "code",
      "metadata": {
        "colab": {
          "base_uri": "https://localhost:8080/"
        },
        "id": "ClJY_mg14Pe2",
        "outputId": "1cce1adf-a986-45b7-c516-b8923d2d2329"
      },
      "source": [
        "# Calcuate model_3 results\n",
        "GRU_model_results = calculate_results(y_true=val_labels, \n",
        "                                    y_pred=GRU_model_preds)\n",
        "GRU_model_results"
      ],
      "execution_count": 52,
      "outputs": [
        {
          "output_type": "execute_result",
          "data": {
            "text/plain": [
              "{'accuracy': 83.0875,\n",
              " 'f1': 0.8308345586775359,\n",
              " 'precision': 0.8313255268817205,\n",
              " 'recall': 0.830875}"
            ]
          },
          "metadata": {},
          "execution_count": 52
        }
      ]
    },
    {
      "cell_type": "code",
      "metadata": {
        "colab": {
          "base_uri": "https://localhost:8080/"
        },
        "id": "IbDRanBN4RKK",
        "outputId": "3e987890-18f5-404d-9c94-f08220e0b8d1"
      },
      "source": [
        "# Compare to baseline\n",
        "compare_baseline_to_new_results(baseline_results, GRU_model_results)"
      ],
      "execution_count": 53,
      "outputs": [
        {
          "output_type": "stream",
          "name": "stdout",
          "text": [
            "Baseline accuracy: 82.12, New accuracy: 83.09, Difference: 0.96\n",
            "Baseline precision: 0.82, New precision: 0.83, Difference: 0.01\n",
            "Baseline recall: 0.82, New recall: 0.83, Difference: 0.01\n",
            "Baseline f1: 0.82, New f1: 0.83, Difference: 0.01\n"
          ]
        }
      ]
    },
    {
      "cell_type": "markdown",
      "metadata": {
        "id": "muuzNQLS4U6-"
      },
      "source": [
        "## Model 4: Bidirectional-LSTM (RNN)"
      ]
    },
    {
      "cell_type": "code",
      "metadata": {
        "id": "OjeJ_ShY4WM9"
      },
      "source": [
        "# Set random seed and create embedding layer (new embedding layer for each model)\n",
        "tf.random.set_seed(42)\n",
        "from tensorflow.keras import layers\n",
        "BidirectionalLSTM_model_embedding = layers.Embedding(input_dim=max_vocab_length,\n",
        "                                     output_dim=128,\n",
        "                                     embeddings_initializer=\"uniform\",\n",
        "                                     input_length=max_length,\n",
        "                                     name=\"embedding_4\")\n",
        "\n",
        "# Build a Bidirectional RNN in TensorFlow\n",
        "inputs = layers.Input(shape=(1,), dtype=\"string\")\n",
        "x = text_vectorizer(inputs)\n",
        "x = BidirectionalLSTM_model_embedding(x)\n",
        "# x = layers.Bidirectional(layers.LSTM(64, return_sequences=True))(x) # stacking RNN layers requires return_sequences=True\n",
        "x = layers.Bidirectional(layers.LSTM(64))(x) # bidirectional goes both ways so has double the parameters of a regular LSTM layer\n",
        "outputs = layers.Dense(1, activation=\"sigmoid\")(x)\n",
        "BidirectionalLSTM_model = tf.keras.Model(inputs, outputs, name=\"BidirectionalLSTM_model\")"
      ],
      "execution_count": 54,
      "outputs": []
    },
    {
      "cell_type": "code",
      "metadata": {
        "id": "BYgAUNmX4Z-S"
      },
      "source": [
        "# Compile\n",
        "BidirectionalLSTM_model.compile(loss=\"binary_crossentropy\",\n",
        "                optimizer=tf.keras.optimizers.Adam(),\n",
        "                metrics=[\"accuracy\"])"
      ],
      "execution_count": 55,
      "outputs": []
    },
    {
      "cell_type": "code",
      "metadata": {
        "colab": {
          "base_uri": "https://localhost:8080/"
        },
        "id": "N1I6ljmR4bv2",
        "outputId": "322f5fc8-8feb-40c7-a4e1-984bfeeecaae"
      },
      "source": [
        "# Get a summary of our bidirectional model\n",
        "BidirectionalLSTM_model.summary()"
      ],
      "execution_count": 56,
      "outputs": [
        {
          "output_type": "stream",
          "name": "stdout",
          "text": [
            "Model: \"BidirectionalLSTM_model\"\n",
            "_________________________________________________________________\n",
            " Layer (type)                Output Shape              Param #   \n",
            "=================================================================\n",
            " input_4 (InputLayer)        [(None, 1)]               0         \n",
            "                                                                 \n",
            " text_vectorization_1 (TextV  (None, 50)               0         \n",
            " ectorization)                                                   \n",
            "                                                                 \n",
            " embedding_4 (Embedding)     (None, 50, 128)           1280000   \n",
            "                                                                 \n",
            " bidirectional (Bidirectiona  (None, 128)              98816     \n",
            " l)                                                              \n",
            "                                                                 \n",
            " dense_3 (Dense)             (None, 1)                 129       \n",
            "                                                                 \n",
            "=================================================================\n",
            "Total params: 1,378,945\n",
            "Trainable params: 1,378,945\n",
            "Non-trainable params: 0\n",
            "_________________________________________________________________\n"
          ]
        }
      ]
    },
    {
      "cell_type": "code",
      "metadata": {
        "id": "m-tsmMgt4djH",
        "colab": {
          "base_uri": "https://localhost:8080/"
        },
        "outputId": "4a1ae4ce-afc9-44c8-e801-801b47e09c16"
      },
      "source": [
        "# Fit the model (takes longer because of the bidirectional layers)\n",
        "BidirectionalLSTM_model_history = BidirectionalLSTM_model.fit(train_sentences,\n",
        "                              train_labels,\n",
        "                              epochs=5,\n",
        "                              validation_data=(val_sentences, val_labels),\n",
        "                              callbacks=[create_tensorboard_callback(SAVE_DIR, \"bidirectional_RNN\")])"
      ],
      "execution_count": 57,
      "outputs": [
        {
          "output_type": "stream",
          "name": "stdout",
          "text": [
            "Saving TensorBoard log files to: model_logs/bidirectional_RNN/20220129-113216\n",
            "Epoch 1/5\n",
            "2250/2250 [==============================] - 26s 10ms/step - loss: 0.4115 - accuracy: 0.8106 - val_loss: 0.3488 - val_accuracy: 0.8401\n",
            "Epoch 2/5\n",
            "2250/2250 [==============================] - 22s 10ms/step - loss: 0.2949 - accuracy: 0.8747 - val_loss: 0.3715 - val_accuracy: 0.8495\n",
            "Epoch 3/5\n",
            "2250/2250 [==============================] - 22s 10ms/step - loss: 0.2234 - accuracy: 0.9094 - val_loss: 0.3726 - val_accuracy: 0.8443\n",
            "Epoch 4/5\n",
            "2250/2250 [==============================] - 22s 10ms/step - loss: 0.1563 - accuracy: 0.9405 - val_loss: 0.4596 - val_accuracy: 0.8345\n",
            "Epoch 5/5\n",
            "2250/2250 [==============================] - 22s 10ms/step - loss: 0.1011 - accuracy: 0.9647 - val_loss: 0.5531 - val_accuracy: 0.8239\n"
          ]
        }
      ]
    },
    {
      "cell_type": "code",
      "metadata": {
        "colab": {
          "base_uri": "https://localhost:8080/"
        },
        "id": "YuCVP_FB4fLK",
        "outputId": "bcf41a40-513c-4dd6-bfad-caed6df00c61"
      },
      "source": [
        "# Make predictions with bidirectional RNN on the validation data\n",
        "BidirectionalLSTM_model_pred_probs = BidirectionalLSTM_model.predict(val_sentences)\n",
        "BidirectionalLSTM_model_pred_probs[:10]"
      ],
      "execution_count": 58,
      "outputs": [
        {
          "output_type": "execute_result",
          "data": {
            "text/plain": [
              "array([[9.6786575e-04],\n",
              "       [1.1381720e-03],\n",
              "       [4.8985268e-04],\n",
              "       [9.9426419e-01],\n",
              "       [8.8617908e-06],\n",
              "       [9.9770159e-01],\n",
              "       [1.2367485e-06],\n",
              "       [9.9393362e-01],\n",
              "       [9.9710935e-01],\n",
              "       [9.1044056e-01]], dtype=float32)"
            ]
          },
          "metadata": {},
          "execution_count": 58
        }
      ]
    },
    {
      "cell_type": "code",
      "metadata": {
        "colab": {
          "base_uri": "https://localhost:8080/"
        },
        "id": "8r8BOGAJ4gcG",
        "outputId": "ce93e09c-f1bc-499d-c16c-6f9c1da8ee87"
      },
      "source": [
        "# Convert prediction probabilities to labels\n",
        "BidirectionalLSTM_model_preds = tf.squeeze(tf.round(BidirectionalLSTM_model_pred_probs))\n",
        "BidirectionalLSTM_model_preds[:10]"
      ],
      "execution_count": 59,
      "outputs": [
        {
          "output_type": "execute_result",
          "data": {
            "text/plain": [
              "<tf.Tensor: shape=(10,), dtype=float32, numpy=array([0., 0., 0., 1., 0., 1., 0., 1., 1., 1.], dtype=float32)>"
            ]
          },
          "metadata": {},
          "execution_count": 59
        }
      ]
    },
    {
      "cell_type": "code",
      "metadata": {
        "colab": {
          "base_uri": "https://localhost:8080/"
        },
        "id": "XC-pNriV4h1H",
        "outputId": "5fd76890-d206-4795-a0e1-5141e9d9bbdb"
      },
      "source": [
        "# Calculate bidirectional RNN model results\n",
        "BidirectionalLSTM_model_results = calculate_results(val_labels, BidirectionalLSTM_model_preds)\n",
        "BidirectionalLSTM_model_results"
      ],
      "execution_count": 60,
      "outputs": [
        {
          "output_type": "execute_result",
          "data": {
            "text/plain": [
              "{'accuracy': 82.3875,\n",
              " 'f1': 0.8238595731273043,\n",
              " 'precision': 0.823933794544866,\n",
              " 'recall': 0.823875}"
            ]
          },
          "metadata": {},
          "execution_count": 60
        }
      ]
    },
    {
      "cell_type": "code",
      "metadata": {
        "colab": {
          "base_uri": "https://localhost:8080/"
        },
        "id": "XHCcrQu14jc2",
        "outputId": "4927d512-7dd5-4d21-ab93-f6f30e5718b6"
      },
      "source": [
        "# Check to see how the bidirectional model performs against the baseline\n",
        "compare_baseline_to_new_results(baseline_results, BidirectionalLSTM_model_results)"
      ],
      "execution_count": 61,
      "outputs": [
        {
          "output_type": "stream",
          "name": "stdout",
          "text": [
            "Baseline accuracy: 82.12, New accuracy: 82.39, Difference: 0.26\n",
            "Baseline precision: 0.82, New precision: 0.82, Difference: 0.00\n",
            "Baseline recall: 0.82, New recall: 0.82, Difference: 0.00\n",
            "Baseline f1: 0.82, New f1: 0.82, Difference: 0.00\n"
          ]
        }
      ]
    },
    {
      "cell_type": "markdown",
      "metadata": {
        "id": "MA8JP7Ub4qSV"
      },
      "source": [
        "## Model 5: Conv1D (1D Convolutional Neural Network)"
      ]
    },
    {
      "cell_type": "code",
      "metadata": {
        "colab": {
          "base_uri": "https://localhost:8080/"
        },
        "id": "5mvVz7f24nEU",
        "outputId": "e854bed5-5fe5-4f14-d696-b036dba25a85"
      },
      "source": [
        "# Test out the embedding, 1D convolutional and max pooling\n",
        "embedding_test = embedding(text_vectorizer([\"this is a test sentence\"])) # turn target sentence into embedding\n",
        "conv_1d = layers.Conv1D(filters=32, kernel_size=5, activation=\"relu\") # convolve over target sequence 5 words at a time\n",
        "conv_1d_output = conv_1d(embedding_test) # pass embedding through 1D convolutional layer\n",
        "max_pool = layers.GlobalMaxPool1D() \n",
        "max_pool_output = max_pool(conv_1d_output) # get the most important features\n",
        "embedding_test.shape, conv_1d_output.shape, max_pool_output.shape"
      ],
      "execution_count": 62,
      "outputs": [
        {
          "output_type": "execute_result",
          "data": {
            "text/plain": [
              "(TensorShape([1, 50, 128]), TensorShape([1, 46, 32]), TensorShape([1, 32]))"
            ]
          },
          "metadata": {},
          "execution_count": 62
        }
      ]
    },
    {
      "cell_type": "code",
      "metadata": {
        "id": "MMWUmmsW4t3L",
        "colab": {
          "base_uri": "https://localhost:8080/"
        },
        "outputId": "d79eaf92-9338-4346-abc8-8815a5993175"
      },
      "source": [
        "# See the outputs of each layer\n",
        "embedding_test[:1], conv_1d_output[:1], max_pool_output[:1]"
      ],
      "execution_count": 63,
      "outputs": [
        {
          "output_type": "execute_result",
          "data": {
            "text/plain": [
              "(<tf.Tensor: shape=(1, 50, 128), dtype=float32, numpy=\n",
              " array([[[-0.05226654,  0.06047863, -0.00504419, ...,  0.02857119,\n",
              "          -0.03107443,  0.06792203],\n",
              "         [-0.00475364, -0.03250121,  0.03181313, ...,  0.09934089,\n",
              "           0.06740981, -0.06360257],\n",
              "         [-0.01266353, -0.04110214,  0.01794287, ..., -0.01034518,\n",
              "           0.00409547, -0.05415931],\n",
              "         ...,\n",
              "         [ 0.02060481, -0.01297494, -0.0065774 , ..., -0.01414951,\n",
              "           0.01720497, -0.00756202],\n",
              "         [ 0.02060481, -0.01297494, -0.0065774 , ..., -0.01414951,\n",
              "           0.01720497, -0.00756202],\n",
              "         [ 0.02060481, -0.01297494, -0.0065774 , ..., -0.01414951,\n",
              "           0.01720497, -0.00756202]]], dtype=float32)>,\n",
              " <tf.Tensor: shape=(1, 46, 32), dtype=float32, numpy=\n",
              " array([[[0.        , 0.        , 0.        , ..., 0.        ,\n",
              "          0.        , 0.1670962 ],\n",
              "         [0.00228757, 0.        , 0.        , ..., 0.        ,\n",
              "          0.15142024, 0.        ],\n",
              "         [0.        , 0.14792955, 0.        , ..., 0.        ,\n",
              "          0.        , 0.        ],\n",
              "         ...,\n",
              "         [0.02707309, 0.        , 0.        , ..., 0.04334655,\n",
              "          0.0193726 , 0.        ],\n",
              "         [0.02707309, 0.        , 0.        , ..., 0.04334655,\n",
              "          0.0193726 , 0.        ],\n",
              "         [0.02707309, 0.        , 0.        , ..., 0.04334655,\n",
              "          0.01937259, 0.        ]]], dtype=float32)>,\n",
              " <tf.Tensor: shape=(1, 32), dtype=float32, numpy=\n",
              " array([[0.11930442, 0.15130764, 0.16083366, 0.3672467 , 0.20064923,\n",
              "         0.13738188, 0.13538781, 0.04617246, 0.19787657, 0.05449402,\n",
              "         0.2311576 , 0.13718262, 0.13229972, 0.1745797 , 0.190187  ,\n",
              "         0.25786796, 0.08600397, 0.1163654 , 0.2168161 , 0.14087886,\n",
              "         0.12487227, 0.3758976 , 0.3040475 , 0.09044586, 0.20766369,\n",
              "         0.09707339, 0.1919761 , 0.17640764, 0.01111146, 0.21103379,\n",
              "         0.15142024, 0.1670962 ]], dtype=float32)>)"
            ]
          },
          "metadata": {},
          "execution_count": 63
        }
      ]
    },
    {
      "cell_type": "code",
      "metadata": {
        "colab": {
          "base_uri": "https://localhost:8080/"
        },
        "id": "C5nbmwsn4wel",
        "outputId": "27a313fd-7b14-4eaa-c4db-4c8736ce9f86"
      },
      "source": [
        "# Set random seed and create embedding layer (new embedding layer for each model)\n",
        "tf.random.set_seed(42)\n",
        "from tensorflow.keras import layers\n",
        "Conv1D_model_embedding = layers.Embedding(input_dim=max_vocab_length,\n",
        "                                     output_dim=128,\n",
        "                                     embeddings_initializer=\"uniform\",\n",
        "                                     input_length=max_length,\n",
        "                                     name=\"embedding_5\")\n",
        "\n",
        "# Create 1-dimensional convolutional layer to model sequences\n",
        "from tensorflow.keras import layers\n",
        "inputs = layers.Input(shape=(1,), dtype=\"string\")\n",
        "x = text_vectorizer(inputs)\n",
        "x = Conv1D_model_embedding(x)\n",
        "x = layers.Conv1D(filters=32, kernel_size=5, activation=\"relu\")(x)\n",
        "x = layers.GlobalMaxPool1D()(x)\n",
        "# x = layers.Dense(64, activation=\"relu\")(x) # optional dense layer\n",
        "outputs = layers.Dense(1, activation=\"sigmoid\")(x)\n",
        "Conv1D_model = tf.keras.Model(inputs, outputs, name=\"Conv1D_model\")\n",
        "\n",
        "# Compile Conv1D model\n",
        "Conv1D_model.compile(loss=\"binary_crossentropy\",\n",
        "                optimizer=tf.keras.optimizers.Adam(),\n",
        "                metrics=[\"accuracy\"])\n",
        "\n",
        "# Get a summary of our 1D convolution model\n",
        "Conv1D_model.summary()"
      ],
      "execution_count": 64,
      "outputs": [
        {
          "output_type": "stream",
          "name": "stdout",
          "text": [
            "Model: \"Conv1D_model\"\n",
            "_________________________________________________________________\n",
            " Layer (type)                Output Shape              Param #   \n",
            "=================================================================\n",
            " input_5 (InputLayer)        [(None, 1)]               0         \n",
            "                                                                 \n",
            " text_vectorization_1 (TextV  (None, 50)               0         \n",
            " ectorization)                                                   \n",
            "                                                                 \n",
            " embedding_5 (Embedding)     (None, 50, 128)           1280000   \n",
            "                                                                 \n",
            " conv1d_1 (Conv1D)           (None, 46, 32)            20512     \n",
            "                                                                 \n",
            " global_max_pooling1d_1 (Glo  (None, 32)               0         \n",
            " balMaxPooling1D)                                                \n",
            "                                                                 \n",
            " dense_4 (Dense)             (None, 1)                 33        \n",
            "                                                                 \n",
            "=================================================================\n",
            "Total params: 1,300,545\n",
            "Trainable params: 1,300,545\n",
            "Non-trainable params: 0\n",
            "_________________________________________________________________\n"
          ]
        }
      ]
    },
    {
      "cell_type": "code",
      "metadata": {
        "id": "v1Bu60qj4ycD",
        "colab": {
          "base_uri": "https://localhost:8080/"
        },
        "outputId": "b2c8a342-eb1e-472f-ef97-bfa4efe39170"
      },
      "source": [
        "# Fit the model\n",
        "Conv1D_model_history = Conv1D_model.fit(train_sentences,\n",
        "                              train_labels,\n",
        "                              epochs=5,\n",
        "                              validation_data=(val_sentences, val_labels),\n",
        "                              callbacks=[create_tensorboard_callback(SAVE_DIR, \n",
        "                                                                     \"Conv1D\")])"
      ],
      "execution_count": 99,
      "outputs": [
        {
          "output_type": "stream",
          "name": "stdout",
          "text": [
            "Saving TensorBoard log files to: model_logs/Conv1D/20220129-113959\n",
            "Epoch 1/5\n",
            "2250/2250 [==============================] - 12s 5ms/step - loss: 0.0161 - accuracy: 0.9970 - val_loss: 0.7473 - val_accuracy: 0.8217\n",
            "Epoch 2/5\n",
            "2250/2250 [==============================] - 12s 5ms/step - loss: 0.0066 - accuracy: 0.9991 - val_loss: 0.7760 - val_accuracy: 0.8338\n",
            "Epoch 3/5\n",
            "2250/2250 [==============================] - 12s 5ms/step - loss: 0.0046 - accuracy: 0.9991 - val_loss: 0.8740 - val_accuracy: 0.8314\n",
            "Epoch 4/5\n",
            "2250/2250 [==============================] - 14s 6ms/step - loss: 0.0047 - accuracy: 0.9987 - val_loss: 0.9835 - val_accuracy: 0.8246\n",
            "Epoch 5/5\n",
            "2250/2250 [==============================] - 12s 5ms/step - loss: 0.0037 - accuracy: 0.9990 - val_loss: 1.0579 - val_accuracy: 0.8296\n"
          ]
        }
      ]
    },
    {
      "cell_type": "code",
      "metadata": {
        "colab": {
          "base_uri": "https://localhost:8080/"
        },
        "id": "OeMpL8Oi4z7C",
        "outputId": "cae79288-590f-4846-e6af-124a36d99872"
      },
      "source": [
        "# Make predictions with model_5\n",
        "Conv1D_model_pred_probs = Conv1D_model.predict(val_sentences)\n",
        "Conv1D_model_pred_probs[:10]"
      ],
      "execution_count": 100,
      "outputs": [
        {
          "output_type": "execute_result",
          "data": {
            "text/plain": [
              "array([[3.9809481e-10],\n",
              "       [2.1570996e-07],\n",
              "       [9.3119505e-11],\n",
              "       [1.0000000e+00],\n",
              "       [4.3780822e-14],\n",
              "       [9.9997509e-01],\n",
              "       [1.9767322e-17],\n",
              "       [9.9999356e-01],\n",
              "       [9.9999619e-01],\n",
              "       [9.9913222e-01]], dtype=float32)"
            ]
          },
          "metadata": {},
          "execution_count": 100
        }
      ]
    },
    {
      "cell_type": "code",
      "metadata": {
        "colab": {
          "base_uri": "https://localhost:8080/"
        },
        "id": "sMmc-LzH41mG",
        "outputId": "c068db40-b1d3-4203-cb45-40e82d8e1060"
      },
      "source": [
        "# Convert model_5 prediction probabilities to labels\n",
        "Conv1D_model_preds = tf.squeeze(tf.round(Conv1D_model_pred_probs))\n",
        "Conv1D_model_preds[:10]"
      ],
      "execution_count": 101,
      "outputs": [
        {
          "output_type": "execute_result",
          "data": {
            "text/plain": [
              "<tf.Tensor: shape=(10,), dtype=float32, numpy=array([0., 0., 0., 1., 0., 1., 0., 1., 1., 1.], dtype=float32)>"
            ]
          },
          "metadata": {},
          "execution_count": 101
        }
      ]
    },
    {
      "cell_type": "code",
      "metadata": {
        "colab": {
          "base_uri": "https://localhost:8080/"
        },
        "id": "EPETFGLE420I",
        "outputId": "55c13796-d564-427e-c67c-64ad3bc6b5d4"
      },
      "source": [
        "# Calculate model_5 evaluation metrics \n",
        "Conv1D_model_results = calculate_results(y_true=val_labels, \n",
        "                                    y_pred=Conv1D_model_preds)\n",
        "Conv1D_model_results"
      ],
      "execution_count": 102,
      "outputs": [
        {
          "output_type": "execute_result",
          "data": {
            "text/plain": [
              "{'accuracy': 82.96249999999999,\n",
              " 'f1': 0.8294242712462847,\n",
              " 'precision': 0.8309426810314375,\n",
              " 'recall': 0.829625}"
            ]
          },
          "metadata": {},
          "execution_count": 102
        }
      ]
    },
    {
      "cell_type": "code",
      "metadata": {
        "colab": {
          "base_uri": "https://localhost:8080/"
        },
        "id": "6BRX5PKP44Q2",
        "outputId": "5687c0f0-fdef-4420-e194-9c7072567e06"
      },
      "source": [
        "# Compare model_5 results to baseline \n",
        "compare_baseline_to_new_results(baseline_results, Conv1D_model_results)"
      ],
      "execution_count": 103,
      "outputs": [
        {
          "output_type": "stream",
          "name": "stdout",
          "text": [
            "Baseline accuracy: 82.12, New accuracy: 82.96, Difference: 0.84\n",
            "Baseline precision: 0.82, New precision: 0.83, Difference: 0.01\n",
            "Baseline recall: 0.82, New recall: 0.83, Difference: 0.01\n",
            "Baseline f1: 0.82, New f1: 0.83, Difference: 0.01\n"
          ]
        }
      ]
    },
    {
      "cell_type": "markdown",
      "metadata": {
        "id": "7bwQXLlPCkrw"
      },
      "source": [
        "## Comparing the performance of each of our models"
      ]
    },
    {
      "cell_type": "code",
      "source": [
        "# Combine model results into a DataFrame excluding the transfer learning\n",
        "all_model_results = pd.DataFrame({\"baseline(Naive Bayes)\": baseline_results,\n",
        "                                  \"simple_dense\": SimpleDense_model_results,\n",
        "                                  \"lstm\": LSTM_model_results,\n",
        "                                  \"gru\": GRU_model_results,\n",
        "                                  \"bidirectional\": BidirectionalLSTM_model_results,\n",
        "                                  \"conv1d\": Conv1D_model_results,\n",
        "                                 })\n",
        "all_model_results = all_model_results.transpose()\n",
        "all_model_results"
      ],
      "metadata": {
        "colab": {
          "base_uri": "https://localhost:8080/",
          "height": 237
        },
        "id": "H8C3VnE4ZCMk",
        "outputId": "aceee6ba-138c-46ed-ddff-baafda427635"
      },
      "execution_count": 104,
      "outputs": [
        {
          "output_type": "execute_result",
          "data": {
            "text/html": [
              "\n",
              "  <div id=\"df-964bea5e-c446-4ebd-a222-de7c35dcf4e8\">\n",
              "    <div class=\"colab-df-container\">\n",
              "      <div>\n",
              "<style scoped>\n",
              "    .dataframe tbody tr th:only-of-type {\n",
              "        vertical-align: middle;\n",
              "    }\n",
              "\n",
              "    .dataframe tbody tr th {\n",
              "        vertical-align: top;\n",
              "    }\n",
              "\n",
              "    .dataframe thead th {\n",
              "        text-align: right;\n",
              "    }\n",
              "</style>\n",
              "<table border=\"1\" class=\"dataframe\">\n",
              "  <thead>\n",
              "    <tr style=\"text-align: right;\">\n",
              "      <th></th>\n",
              "      <th>accuracy</th>\n",
              "      <th>precision</th>\n",
              "      <th>recall</th>\n",
              "      <th>f1</th>\n",
              "    </tr>\n",
              "  </thead>\n",
              "  <tbody>\n",
              "    <tr>\n",
              "      <th>baseline(Naive Bayes)</th>\n",
              "      <td>82.1250</td>\n",
              "      <td>0.822381</td>\n",
              "      <td>0.821250</td>\n",
              "      <td>0.821123</td>\n",
              "    </tr>\n",
              "    <tr>\n",
              "      <th>simple_dense</th>\n",
              "      <td>82.0625</td>\n",
              "      <td>0.821052</td>\n",
              "      <td>0.820625</td>\n",
              "      <td>0.820546</td>\n",
              "    </tr>\n",
              "    <tr>\n",
              "      <th>lstm</th>\n",
              "      <td>82.3250</td>\n",
              "      <td>0.823294</td>\n",
              "      <td>0.823250</td>\n",
              "      <td>0.823237</td>\n",
              "    </tr>\n",
              "    <tr>\n",
              "      <th>gru</th>\n",
              "      <td>83.0875</td>\n",
              "      <td>0.831326</td>\n",
              "      <td>0.830875</td>\n",
              "      <td>0.830835</td>\n",
              "    </tr>\n",
              "    <tr>\n",
              "      <th>bidirectional</th>\n",
              "      <td>82.3875</td>\n",
              "      <td>0.823934</td>\n",
              "      <td>0.823875</td>\n",
              "      <td>0.823860</td>\n",
              "    </tr>\n",
              "    <tr>\n",
              "      <th>conv1d</th>\n",
              "      <td>82.9625</td>\n",
              "      <td>0.830943</td>\n",
              "      <td>0.829625</td>\n",
              "      <td>0.829424</td>\n",
              "    </tr>\n",
              "  </tbody>\n",
              "</table>\n",
              "</div>\n",
              "      <button class=\"colab-df-convert\" onclick=\"convertToInteractive('df-964bea5e-c446-4ebd-a222-de7c35dcf4e8')\"\n",
              "              title=\"Convert this dataframe to an interactive table.\"\n",
              "              style=\"display:none;\">\n",
              "        \n",
              "  <svg xmlns=\"http://www.w3.org/2000/svg\" height=\"24px\"viewBox=\"0 0 24 24\"\n",
              "       width=\"24px\">\n",
              "    <path d=\"M0 0h24v24H0V0z\" fill=\"none\"/>\n",
              "    <path d=\"M18.56 5.44l.94 2.06.94-2.06 2.06-.94-2.06-.94-.94-2.06-.94 2.06-2.06.94zm-11 1L8.5 8.5l.94-2.06 2.06-.94-2.06-.94L8.5 2.5l-.94 2.06-2.06.94zm10 10l.94 2.06.94-2.06 2.06-.94-2.06-.94-.94-2.06-.94 2.06-2.06.94z\"/><path d=\"M17.41 7.96l-1.37-1.37c-.4-.4-.92-.59-1.43-.59-.52 0-1.04.2-1.43.59L10.3 9.45l-7.72 7.72c-.78.78-.78 2.05 0 2.83L4 21.41c.39.39.9.59 1.41.59.51 0 1.02-.2 1.41-.59l7.78-7.78 2.81-2.81c.8-.78.8-2.07 0-2.86zM5.41 20L4 18.59l7.72-7.72 1.47 1.35L5.41 20z\"/>\n",
              "  </svg>\n",
              "      </button>\n",
              "      \n",
              "  <style>\n",
              "    .colab-df-container {\n",
              "      display:flex;\n",
              "      flex-wrap:wrap;\n",
              "      gap: 12px;\n",
              "    }\n",
              "\n",
              "    .colab-df-convert {\n",
              "      background-color: #E8F0FE;\n",
              "      border: none;\n",
              "      border-radius: 50%;\n",
              "      cursor: pointer;\n",
              "      display: none;\n",
              "      fill: #1967D2;\n",
              "      height: 32px;\n",
              "      padding: 0 0 0 0;\n",
              "      width: 32px;\n",
              "    }\n",
              "\n",
              "    .colab-df-convert:hover {\n",
              "      background-color: #E2EBFA;\n",
              "      box-shadow: 0px 1px 2px rgba(60, 64, 67, 0.3), 0px 1px 3px 1px rgba(60, 64, 67, 0.15);\n",
              "      fill: #174EA6;\n",
              "    }\n",
              "\n",
              "    [theme=dark] .colab-df-convert {\n",
              "      background-color: #3B4455;\n",
              "      fill: #D2E3FC;\n",
              "    }\n",
              "\n",
              "    [theme=dark] .colab-df-convert:hover {\n",
              "      background-color: #434B5C;\n",
              "      box-shadow: 0px 1px 3px 1px rgba(0, 0, 0, 0.15);\n",
              "      filter: drop-shadow(0px 1px 2px rgba(0, 0, 0, 0.3));\n",
              "      fill: #FFFFFF;\n",
              "    }\n",
              "  </style>\n",
              "\n",
              "      <script>\n",
              "        const buttonEl =\n",
              "          document.querySelector('#df-964bea5e-c446-4ebd-a222-de7c35dcf4e8 button.colab-df-convert');\n",
              "        buttonEl.style.display =\n",
              "          google.colab.kernel.accessAllowed ? 'block' : 'none';\n",
              "\n",
              "        async function convertToInteractive(key) {\n",
              "          const element = document.querySelector('#df-964bea5e-c446-4ebd-a222-de7c35dcf4e8');\n",
              "          const dataTable =\n",
              "            await google.colab.kernel.invokeFunction('convertToInteractive',\n",
              "                                                     [key], {});\n",
              "          if (!dataTable) return;\n",
              "\n",
              "          const docLinkHtml = 'Like what you see? Visit the ' +\n",
              "            '<a target=\"_blank\" href=https://colab.research.google.com/notebooks/data_table.ipynb>data table notebook</a>'\n",
              "            + ' to learn more about interactive tables.';\n",
              "          element.innerHTML = '';\n",
              "          dataTable['output_type'] = 'display_data';\n",
              "          await google.colab.output.renderOutput(dataTable, element);\n",
              "          const docLink = document.createElement('div');\n",
              "          docLink.innerHTML = docLinkHtml;\n",
              "          element.appendChild(docLink);\n",
              "        }\n",
              "      </script>\n",
              "    </div>\n",
              "  </div>\n",
              "  "
            ],
            "text/plain": [
              "                       accuracy  precision    recall        f1\n",
              "baseline(Naive Bayes)   82.1250   0.822381  0.821250  0.821123\n",
              "simple_dense            82.0625   0.821052  0.820625  0.820546\n",
              "lstm                    82.3250   0.823294  0.823250  0.823237\n",
              "gru                     83.0875   0.831326  0.830875  0.830835\n",
              "bidirectional           82.3875   0.823934  0.823875  0.823860\n",
              "conv1d                  82.9625   0.830943  0.829625  0.829424"
            ]
          },
          "metadata": {},
          "execution_count": 104
        }
      ]
    },
    {
      "cell_type": "code",
      "metadata": {
        "id": "8jmCrP_tESj5"
      },
      "source": [
        "# Reduce the accuracy to same scale as other metrics\n",
        "all_model_results[\"accuracy\"] = all_model_results[\"accuracy\"]/100"
      ],
      "execution_count": 105,
      "outputs": []
    },
    {
      "cell_type": "code",
      "metadata": {
        "colab": {
          "base_uri": "https://localhost:8080/",
          "height": 530
        },
        "id": "ynPUOONfE1hg",
        "outputId": "2e26e5fc-c9af-4929-c5e1-8c2b9cdde5e3"
      },
      "source": [
        "# Plot and compare all of the model results\n",
        "all_model_results.plot(kind=\"bar\", figsize=(10, 7)).legend(bbox_to_anchor=(1.0, 1.0));"
      ],
      "execution_count": 106,
      "outputs": [
        {
          "output_type": "display_data",
          "data": {
            "image/png": "[encoded data removed]",
            "text/plain": [
              "<Figure size 720x504 with 1 Axes>"
            ]
          },
          "metadata": {
            "needs_background": "light"
          }
        }
      ]
    },
    {
      "cell_type": "code",
      "source": [
        "all_model_results"
      ],
      "metadata": {
        "colab": {
          "base_uri": "https://localhost:8080/",
          "height": 237
        },
        "id": "4HW4UpIdyMFZ",
        "outputId": "2ee3b9d4-e08e-4def-ed71-727478f86d00"
      },
      "execution_count": 107,
      "outputs": [
        {
          "output_type": "execute_result",
          "data": {
            "text/html": [
              "\n",
              "  <div id=\"df-24c1bb1e-acdf-4d42-a545-92adf266ebea\">\n",
              "    <div class=\"colab-df-container\">\n",
              "      <div>\n",
              "<style scoped>\n",
              "    .dataframe tbody tr th:only-of-type {\n",
              "        vertical-align: middle;\n",
              "    }\n",
              "\n",
              "    .dataframe tbody tr th {\n",
              "        vertical-align: top;\n",
              "    }\n",
              "\n",
              "    .dataframe thead th {\n",
              "        text-align: right;\n",
              "    }\n",
              "</style>\n",
              "<table border=\"1\" class=\"dataframe\">\n",
              "  <thead>\n",
              "    <tr style=\"text-align: right;\">\n",
              "      <th></th>\n",
              "      <th>accuracy</th>\n",
              "      <th>precision</th>\n",
              "      <th>recall</th>\n",
              "      <th>f1</th>\n",
              "    </tr>\n",
              "  </thead>\n",
              "  <tbody>\n",
              "    <tr>\n",
              "      <th>baseline(Naive Bayes)</th>\n",
              "      <td>0.821250</td>\n",
              "      <td>0.822381</td>\n",
              "      <td>0.821250</td>\n",
              "      <td>0.821123</td>\n",
              "    </tr>\n",
              "    <tr>\n",
              "      <th>simple_dense</th>\n",
              "      <td>0.820625</td>\n",
              "      <td>0.821052</td>\n",
              "      <td>0.820625</td>\n",
              "      <td>0.820546</td>\n",
              "    </tr>\n",
              "    <tr>\n",
              "      <th>lstm</th>\n",
              "      <td>0.823250</td>\n",
              "      <td>0.823294</td>\n",
              "      <td>0.823250</td>\n",
              "      <td>0.823237</td>\n",
              "    </tr>\n",
              "    <tr>\n",
              "      <th>gru</th>\n",
              "      <td>0.830875</td>\n",
              "      <td>0.831326</td>\n",
              "      <td>0.830875</td>\n",
              "      <td>0.830835</td>\n",
              "    </tr>\n",
              "    <tr>\n",
              "      <th>bidirectional</th>\n",
              "      <td>0.823875</td>\n",
              "      <td>0.823934</td>\n",
              "      <td>0.823875</td>\n",
              "      <td>0.823860</td>\n",
              "    </tr>\n",
              "    <tr>\n",
              "      <th>conv1d</th>\n",
              "      <td>0.829625</td>\n",
              "      <td>0.830943</td>\n",
              "      <td>0.829625</td>\n",
              "      <td>0.829424</td>\n",
              "    </tr>\n",
              "  </tbody>\n",
              "</table>\n",
              "</div>\n",
              "      <button class=\"colab-df-convert\" onclick=\"convertToInteractive('df-24c1bb1e-acdf-4d42-a545-92adf266ebea')\"\n",
              "              title=\"Convert this dataframe to an interactive table.\"\n",
              "              style=\"display:none;\">\n",
              "        \n",
              "  <svg xmlns=\"http://www.w3.org/2000/svg\" height=\"24px\"viewBox=\"0 0 24 24\"\n",
              "       width=\"24px\">\n",
              "    <path d=\"M0 0h24v24H0V0z\" fill=\"none\"/>\n",
              "    <path d=\"M18.56 5.44l.94 2.06.94-2.06 2.06-.94-2.06-.94-.94-2.06-.94 2.06-2.06.94zm-11 1L8.5 8.5l.94-2.06 2.06-.94-2.06-.94L8.5 2.5l-.94 2.06-2.06.94zm10 10l.94 2.06.94-2.06 2.06-.94-2.06-.94-.94-2.06-.94 2.06-2.06.94z\"/><path d=\"M17.41 7.96l-1.37-1.37c-.4-.4-.92-.59-1.43-.59-.52 0-1.04.2-1.43.59L10.3 9.45l-7.72 7.72c-.78.78-.78 2.05 0 2.83L4 21.41c.39.39.9.59 1.41.59.51 0 1.02-.2 1.41-.59l7.78-7.78 2.81-2.81c.8-.78.8-2.07 0-2.86zM5.41 20L4 18.59l7.72-7.72 1.47 1.35L5.41 20z\"/>\n",
              "  </svg>\n",
              "      </button>\n",
              "      \n",
              "  <style>\n",
              "    .colab-df-container {\n",
              "      display:flex;\n",
              "      flex-wrap:wrap;\n",
              "      gap: 12px;\n",
              "    }\n",
              "\n",
              "    .colab-df-convert {\n",
              "      background-color: #E8F0FE;\n",
              "      border: none;\n",
              "      border-radius: 50%;\n",
              "      cursor: pointer;\n",
              "      display: none;\n",
              "      fill: #1967D2;\n",
              "      height: 32px;\n",
              "      padding: 0 0 0 0;\n",
              "      width: 32px;\n",
              "    }\n",
              "\n",
              "    .colab-df-convert:hover {\n",
              "      background-color: #E2EBFA;\n",
              "      box-shadow: 0px 1px 2px rgba(60, 64, 67, 0.3), 0px 1px 3px 1px rgba(60, 64, 67, 0.15);\n",
              "      fill: #174EA6;\n",
              "    }\n",
              "\n",
              "    [theme=dark] .colab-df-convert {\n",
              "      background-color: #3B4455;\n",
              "      fill: #D2E3FC;\n",
              "    }\n",
              "\n",
              "    [theme=dark] .colab-df-convert:hover {\n",
              "      background-color: #434B5C;\n",
              "      box-shadow: 0px 1px 3px 1px rgba(0, 0, 0, 0.15);\n",
              "      filter: drop-shadow(0px 1px 2px rgba(0, 0, 0, 0.3));\n",
              "      fill: #FFFFFF;\n",
              "    }\n",
              "  </style>\n",
              "\n",
              "      <script>\n",
              "        const buttonEl =\n",
              "          document.querySelector('#df-24c1bb1e-acdf-4d42-a545-92adf266ebea button.colab-df-convert');\n",
              "        buttonEl.style.display =\n",
              "          google.colab.kernel.accessAllowed ? 'block' : 'none';\n",
              "\n",
              "        async function convertToInteractive(key) {\n",
              "          const element = document.querySelector('#df-24c1bb1e-acdf-4d42-a545-92adf266ebea');\n",
              "          const dataTable =\n",
              "            await google.colab.kernel.invokeFunction('convertToInteractive',\n",
              "                                                     [key], {});\n",
              "          if (!dataTable) return;\n",
              "\n",
              "          const docLinkHtml = 'Like what you see? Visit the ' +\n",
              "            '<a target=\"_blank\" href=https://colab.research.google.com/notebooks/data_table.ipynb>data table notebook</a>'\n",
              "            + ' to learn more about interactive tables.';\n",
              "          element.innerHTML = '';\n",
              "          dataTable['output_type'] = 'display_data';\n",
              "          await google.colab.output.renderOutput(dataTable, element);\n",
              "          const docLink = document.createElement('div');\n",
              "          docLink.innerHTML = docLinkHtml;\n",
              "          element.appendChild(docLink);\n",
              "        }\n",
              "      </script>\n",
              "    </div>\n",
              "  </div>\n",
              "  "
            ],
            "text/plain": [
              "                       accuracy  precision    recall        f1\n",
              "baseline(Naive Bayes)  0.821250   0.822381  0.821250  0.821123\n",
              "simple_dense           0.820625   0.821052  0.820625  0.820546\n",
              "lstm                   0.823250   0.823294  0.823250  0.823237\n",
              "gru                    0.830875   0.831326  0.830875  0.830835\n",
              "bidirectional          0.823875   0.823934  0.823875  0.823860\n",
              "conv1d                 0.829625   0.830943  0.829625  0.829424"
            ]
          },
          "metadata": {},
          "execution_count": 107
        }
      ]
    },
    {
      "cell_type": "code",
      "metadata": {
        "colab": {
          "base_uri": "https://localhost:8080/",
          "height": 530
        },
        "id": "aI4VkbROE3Fe",
        "outputId": "51829087-55a6-442b-b5bd-e274ba033015"
      },
      "source": [
        "# Sort model results by f1-score\n",
        "ax =all_model_results.sort_values(\"f1\", ascending=False)[\"f1\"].plot(kind=\"bar\", figsize=(10, 7));"
      ],
      "execution_count": 108,
      "outputs": [
        {
          "output_type": "display_data",
          "data": {
            "image/png": "[encoded data removed]",
            "text/plain": [
              "<Figure size 720x504 with 1 Axes>"
            ]
          },
          "metadata": {
            "needs_background": "light"
          }
        }
      ]
    },
    {
      "cell_type": "markdown",
      "metadata": {
        "id": "4NAY-qyKE-z1"
      },
      "source": [
        "## Saving and loading a trained model"
      ]
    },
    {
      "cell_type": "code",
      "source": [
        "# # Save TF Hub Sentence Encoder model to HDF5 format\n",
        "# model_4.save('model_4_SavedModel_format')"
      ],
      "metadata": {
        "id": "c1gZ0fB8aIxL"
      },
      "execution_count": 75,
      "outputs": []
    },
    {
      "cell_type": "code",
      "metadata": {
        "id": "uJPx_eU6Fjci"
      },
      "source": [
        "# # Load model with custom Hub Layer (required with HDF5 format)\n",
        "# loaded_model_4 = tf.keras.models.load_model(\"model_4_SavedModel_format\")"
      ],
      "execution_count": 76,
      "outputs": []
    },
    {
      "cell_type": "code",
      "source": [
        "# How does our loaded model perform?\n",
        "# loaded_model_4.evaluate(val_sentences, val_labels)"
      ],
      "metadata": {
        "id": "QIkG5pMQoofm"
      },
      "execution_count": 77,
      "outputs": []
    },
    {
      "cell_type": "code",
      "source": [
        "# model_4_results"
      ],
      "metadata": {
        "id": "f6q4oiYeopIx"
      },
      "execution_count": 78,
      "outputs": []
    },
    {
      "cell_type": "markdown",
      "source": [
        "Download files from google colab"
      ],
      "metadata": {
        "id": "QOTDYXfbps52"
      }
    },
    {
      "cell_type": "code",
      "source": [
        "# from google.colab import files\n",
        "# files.download('model_4_SavedModel_format')"
      ],
      "metadata": {
        "id": "BP_zt9y6pOfF"
      },
      "execution_count": 79,
      "outputs": []
    },
    {
      "cell_type": "code",
      "metadata": {
        "id": "OTCHTf0_Fajr"
      },
      "source": [
        "# # Save TF Hub Sentence Encoder model to HDF5 format\n",
        "# model_6.save(\"model_6.h5\")"
      ],
      "execution_count": 80,
      "outputs": []
    },
    {
      "cell_type": "code",
      "metadata": {
        "id": "ClZJB4sfFlLq"
      },
      "source": [
        "# # How does our loaded model perform?\n",
        "# loaded_model_6.evaluate(val_sentences, val_labels)"
      ],
      "execution_count": 81,
      "outputs": []
    },
    {
      "cell_type": "code",
      "metadata": {
        "id": "kM9db2SGFnRt"
      },
      "source": [
        "# # Save TF Hub Sentence Encoder model to SavedModel format (default)\n",
        "# model_6.saved_model.save(\"model_6_SavedModel_format\")"
      ],
      "execution_count": 82,
      "outputs": []
    },
    {
      "cell_type": "code",
      "source": [
        "import time\n",
        "t = time.time()\n",
        "\n",
        "export_path_sm = \"/content/drive/MyDrive/MSc Project/Transfer_Learning_model\"\n",
        "print(export_path_sm)\n",
        "\n",
        "tf.keras.models.save_model(GRU_model, export_path_sm)"
      ],
      "metadata": {
        "id": "Y1CM9kWbtsR4",
        "colab": {
          "base_uri": "https://localhost:8080/"
        },
        "outputId": "73648dc0-c015-4c04-9fc2-75146aacf529"
      },
      "execution_count": 109,
      "outputs": [
        {
          "output_type": "stream",
          "name": "stdout",
          "text": [
            "/content/drive/MyDrive/MSc Project/Transfer_Learning_model\n"
          ]
        },
        {
          "output_type": "stream",
          "name": "stderr",
          "text": [
            "WARNING:absl:Found untraced functions such as gru_cell_layer_call_fn, gru_cell_layer_call_and_return_conditional_losses, gru_cell_layer_call_fn, gru_cell_layer_call_and_return_conditional_losses, gru_cell_layer_call_and_return_conditional_losses while saving (showing 5 of 5). These functions will not be directly callable after loading.\n"
          ]
        },
        {
          "output_type": "stream",
          "name": "stdout",
          "text": [
            "INFO:tensorflow:Assets written to: /content/drive/MyDrive/MSc Project/Transfer_Learning_model/assets\n"
          ]
        },
        {
          "output_type": "stream",
          "name": "stderr",
          "text": [
            "INFO:tensorflow:Assets written to: /content/drive/MyDrive/MSc Project/Transfer_Learning_model/assets\n",
            "WARNING:absl:<keras.layers.recurrent.GRUCell object at 0x7f8229fcb0d0> has the same name 'GRUCell' as a built-in Keras object. Consider renaming <class 'keras.layers.recurrent.GRUCell'> to avoid naming conflicts when loading with `tf.keras.models.load_model`. If renaming is not possible, pass the object in the `custom_objects` parameter of the load function.\n"
          ]
        }
      ]
    },
    {
      "cell_type": "code",
      "source": [
        "!zip -r model.zip {export_path_sm}"
      ],
      "metadata": {
        "id": "4eho2nFDuXFT",
        "colab": {
          "base_uri": "https://localhost:8080/"
        },
        "outputId": "ba762561-bfca-418c-a11c-1d50351f4490"
      },
      "execution_count": 84,
      "outputs": [
        {
          "output_type": "stream",
          "name": "stdout",
          "text": [
            "\tzip warning: name not matched: /content/drive/MyDrive/MSc\n",
            "\tzip warning: name not matched: Project/Transfer_Learning_model\n",
            "\n",
            "zip error: Nothing to do! (try: zip -r model.zip . -i /content/drive/MyDrive/MSc Project/Transfer_Learning_model)\n"
          ]
        }
      ]
    },
    {
      "cell_type": "code",
      "source": [
        "!ls"
      ],
      "metadata": {
        "id": "1CZwN44duYSS",
        "colab": {
          "base_uri": "https://localhost:8080/"
        },
        "outputId": "241155ce-2fcb-4de1-b47f-2e6cf061f769"
      },
      "execution_count": 85,
      "outputs": [
        {
          "output_type": "stream",
          "name": "stdout",
          "text": [
            "drive  helper_functions.py  model_logs\tmodel.png  __pycache__\tsample_data\n"
          ]
        }
      ]
    },
    {
      "cell_type": "code",
      "source": [
        "# try:\n",
        "#   from google.colab import files\n",
        "#   files.download('./model.zip')\n",
        "# except ImportError:\n",
        "#   pass"
      ],
      "metadata": {
        "id": "dBYpleqiudSX"
      },
      "execution_count": 86,
      "outputs": []
    },
    {
      "cell_type": "code",
      "metadata": {
        "id": "wk8-LUMAF2wj"
      },
      "source": [
        "# # Load TF Hub Sentence Encoder SavedModel\n",
        "# loaded_model_6_SavedModel = tf.keras.models.load_model(\"model_6_SavedModel_format\")"
      ],
      "execution_count": 87,
      "outputs": []
    },
    {
      "cell_type": "code",
      "metadata": {
        "id": "hun3P5TdF4Cr"
      },
      "source": [
        "# # Evaluate loaded SavedModel format\n",
        "# loaded_model_6_SavedModel.evaluate(val_sentences, val_labels)"
      ],
      "execution_count": 88,
      "outputs": []
    },
    {
      "cell_type": "markdown",
      "source": [
        "## Test the Model"
      ],
      "metadata": {
        "id": "oY1fKXy6GWT_"
      }
    },
    {
      "cell_type": "code",
      "metadata": {
        "id": "AKhlHWK_GH1v",
        "colab": {
          "base_uri": "https://localhost:8080/"
        },
        "outputId": "b27f1387-9145-47ff-e2fa-14e257fa6667"
      },
      "source": [
        "target = tf.squeeze(tf.round(LSTM_model.predict([\"doesn't even fit\"])))\n",
        "print(f\"Target: {target}\", \"(Positive Review)\" if target > 0 else \"(Negative Review)\")"
      ],
      "execution_count": 89,
      "outputs": [
        {
          "output_type": "stream",
          "name": "stdout",
          "text": [
            "Target: 0.0 (Negative Review)\n"
          ]
        }
      ]
    }
  ]
}